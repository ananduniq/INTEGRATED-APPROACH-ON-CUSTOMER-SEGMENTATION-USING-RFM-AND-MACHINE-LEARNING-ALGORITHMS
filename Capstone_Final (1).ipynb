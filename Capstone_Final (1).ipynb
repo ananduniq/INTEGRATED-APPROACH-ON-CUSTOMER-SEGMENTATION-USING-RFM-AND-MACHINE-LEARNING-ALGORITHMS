{
  "nbformat": 4,
  "nbformat_minor": 0,
  "metadata": {
    "colab": {
      "name": "Capstone_Final_Kowshal.ipynb",
      "provenance": []
    },
    "kernelspec": {
      "display_name": "Python 3",
      "language": "python",
      "name": "python3"
    },
    "language_info": {
      "codemirror_mode": {
        "name": "ipython",
        "version": 3
      },
      "file_extension": ".py",
      "mimetype": "text/x-python",
      "name": "python",
      "nbconvert_exporter": "python",
      "pygments_lexer": "ipython3",
      "version": "3.7.7"
    }
  },
  "cells": [
    {
      "cell_type": "markdown",
      "metadata": {
        "id": "LbEiuMxctPfc"
      },
      "source": [
        "# Importing Standard Libraries"
      ]
    },
    {
      "cell_type": "code",
      "metadata": {
        "id": "CJH_CSqQtPfk"
      },
      "source": [
        "# Standard Libraries\n",
        "\n",
        "import numpy as np\n",
        "import pandas as pd\n",
        "import matplotlib.pyplot as plt\n",
        "import seaborn as sns\n",
        "%matplotlib inline\n",
        "import warnings\n",
        "warnings.filterwarnings('ignore')\n",
        "import datetime as dt"
      ],
      "execution_count": null,
      "outputs": []
    },
    {
      "cell_type": "markdown",
      "metadata": {
        "id": "LFM49avatPfq"
      },
      "source": [
        "# Importing Data Sets"
      ]
    },
    {
      "cell_type": "code",
      "metadata": {
        "id": "BzhDxYdOtPfr"
      },
      "source": [
        "# reading csv files\n",
        "\n",
        "order_payments=pd.read_csv('olist_order_payments_dataset.csv')\n",
        "orders=pd.read_csv('olist_orders_dataset.csv')\n",
        "customers=pd.read_csv('olist_customers_dataset.csv')\n",
        "order_items=pd.read_csv('olist_order_items_dataset.csv')"
      ],
      "execution_count": null,
      "outputs": []
    },
    {
      "cell_type": "code",
      "metadata": {
        "id": "OUtJXhThtPfv"
      },
      "source": [
        "# grouping the columns\n",
        "\n",
        "items=order_items.groupby(by=['order_id'])[['order_item_id']].agg('count').reset_index()\n",
        "order_payment=order_payments.groupby(by=['order_id'])[['payment_value']].agg('sum')"
      ],
      "execution_count": null,
      "outputs": []
    },
    {
      "cell_type": "code",
      "metadata": {
        "id": "QSc0xXPetPfy",
        "outputId": "5655be3f-04e3-4878-e530-815005a5e8b0"
      },
      "source": [
        "# merging the datasets and creating master dataframe\n",
        "\n",
        "df1=customers.merge(orders,on='customer_id')\n",
        "df2=df1.merge(items,on='order_id')\n",
        "final_df=df2.merge(order_payment,on='order_id')\n",
        "final_df.shape"
      ],
      "execution_count": null,
      "outputs": [
        {
          "output_type": "execute_result",
          "data": {
            "text/plain": [
              "(98665, 14)"
            ]
          },
          "metadata": {
            "tags": []
          },
          "execution_count": 4
        }
      ]
    },
    {
      "cell_type": "markdown",
      "metadata": {
        "id": "xqebnEfl7EYY"
      },
      "source": [
        "# Exploratory Data Analysis"
      ]
    },
    {
      "cell_type": "code",
      "metadata": {
        "id": "-5xAqgCbtPf3",
        "outputId": "44c49571-bbe0-4e1b-e0f6-94674ca41b92"
      },
      "source": [
        "# checking the datatype\n",
        "\n",
        "final_df.info()"
      ],
      "execution_count": null,
      "outputs": [
        {
          "output_type": "stream",
          "text": [
            "<class 'pandas.core.frame.DataFrame'>\n",
            "Int64Index: 98665 entries, 0 to 98664\n",
            "Data columns (total 14 columns):\n",
            " #   Column                         Non-Null Count  Dtype  \n",
            "---  ------                         --------------  -----  \n",
            " 0   customer_id                    98665 non-null  object \n",
            " 1   customer_unique_id             98665 non-null  object \n",
            " 2   customer_zip_code_prefix       98665 non-null  int64  \n",
            " 3   customer_city                  98665 non-null  object \n",
            " 4   customer_state                 98665 non-null  object \n",
            " 5   order_id                       98665 non-null  object \n",
            " 6   order_status                   98665 non-null  object \n",
            " 7   order_purchase_timestamp       98665 non-null  object \n",
            " 8   order_approved_at              98651 non-null  object \n",
            " 9   order_delivered_carrier_date   97656 non-null  object \n",
            " 10  order_delivered_customer_date  96475 non-null  object \n",
            " 11  order_estimated_delivery_date  98665 non-null  object \n",
            " 12  order_item_id                  98665 non-null  int64  \n",
            " 13  payment_value                  98665 non-null  float64\n",
            "dtypes: float64(1), int64(2), object(11)\n",
            "memory usage: 11.3+ MB\n"
          ],
          "name": "stdout"
        }
      ]
    },
    {
      "cell_type": "code",
      "metadata": {
        "id": "cvxwHUkTtPf6",
        "outputId": "f0b4f8fa-639c-4878-b288-36f17dcb592a"
      },
      "source": [
        "# converting date columns to datetime\n",
        "\n",
        "date_columns = ['order_purchase_timestamp', 'order_approved_at', 'order_delivered_carrier_date', 'order_delivered_customer_date', 'order_estimated_delivery_date']\n",
        "for col in date_columns:\n",
        "    final_df[col] = pd.to_datetime(final_df[col], format='%Y-%m-%d %H:%M:%S')\n",
        "    \n",
        "final_df.info()"
      ],
      "execution_count": null,
      "outputs": [
        {
          "output_type": "stream",
          "text": [
            "<class 'pandas.core.frame.DataFrame'>\n",
            "Int64Index: 98665 entries, 0 to 98664\n",
            "Data columns (total 14 columns):\n",
            " #   Column                         Non-Null Count  Dtype         \n",
            "---  ------                         --------------  -----         \n",
            " 0   customer_id                    98665 non-null  object        \n",
            " 1   customer_unique_id             98665 non-null  object        \n",
            " 2   customer_zip_code_prefix       98665 non-null  int64         \n",
            " 3   customer_city                  98665 non-null  object        \n",
            " 4   customer_state                 98665 non-null  object        \n",
            " 5   order_id                       98665 non-null  object        \n",
            " 6   order_status                   98665 non-null  object        \n",
            " 7   order_purchase_timestamp       98665 non-null  datetime64[ns]\n",
            " 8   order_approved_at              98651 non-null  datetime64[ns]\n",
            " 9   order_delivered_carrier_date   97656 non-null  datetime64[ns]\n",
            " 10  order_delivered_customer_date  96475 non-null  datetime64[ns]\n",
            " 11  order_estimated_delivery_date  98665 non-null  datetime64[ns]\n",
            " 12  order_item_id                  98665 non-null  int64         \n",
            " 13  payment_value                  98665 non-null  float64       \n",
            "dtypes: datetime64[ns](5), float64(1), int64(2), object(6)\n",
            "memory usage: 11.3+ MB\n"
          ],
          "name": "stdout"
        }
      ]
    },
    {
      "cell_type": "code",
      "metadata": {
        "id": "9yydraWP7EYe"
      },
      "source": [
        "# preparing new columns for analysis\n",
        "\n",
        "\n",
        "final_df['delivery_against_estimated'] = (final_df['order_estimated_delivery_date'] - final_df['order_delivered_customer_date']).dt.days\n",
        "final_df['order_purchase_year'] = final_df.order_purchase_timestamp.apply(lambda x: x.year)\n",
        "final_df['order_purchase_month'] = final_df.order_purchase_timestamp.apply(lambda x: x.month)\n",
        "final_df['order_purchase_dayofweek'] = final_df.order_purchase_timestamp.apply(lambda x: x.dayofweek)\n",
        "final_df['order_purchase_hour'] = final_df.order_purchase_timestamp.apply(lambda x: x.hour)\n",
        "final_df['order_purchase_day'] = final_df['order_purchase_dayofweek'].map({0:'Mon',1:'Tue',2:'Wed',3:'Thu',4:'Fri',5:'Sat',6:'Sun'})\n",
        "final_df['order_purchase_mon'] = final_df.order_purchase_timestamp.apply(lambda x: x.month).map({1:'Jan',2:'Feb',3:'Mar',4:'Apr',5:'May',6:'Jun',7:'Jul',8:'Aug',9:'Sep',10:'Oct',11:'Nov',12:'Dec'})\n",
        "\n"
      ],
      "execution_count": null,
      "outputs": []
    },
    {
      "cell_type": "code",
      "metadata": {
        "id": "tQfsFBHQ7EYg"
      },
      "source": [
        "# Changing the month attribute for correct ordenation\n",
        "\n",
        "final_df['month_year'] = final_df['order_purchase_month'].astype(str).apply(lambda x: '0' + x if len(x) == 1 else x)\n",
        "final_df['month_year'] = final_df['order_purchase_year'].astype(str) + '-' + final_df['month_year'].astype(str)\n"
      ],
      "execution_count": null,
      "outputs": []
    },
    {
      "cell_type": "code",
      "metadata": {
        "id": "xEtg2Se37EYh",
        "outputId": "5aed9611-ee16-44ca-c32f-62e18aeb05aa"
      },
      "source": [
        "final_df.info()"
      ],
      "execution_count": null,
      "outputs": [
        {
          "output_type": "stream",
          "text": [
            "<class 'pandas.core.frame.DataFrame'>\n",
            "Int64Index: 96477 entries, 0 to 98664\n",
            "Data columns (total 17 columns):\n",
            " #   Column                         Non-Null Count  Dtype         \n",
            "---  ------                         --------------  -----         \n",
            " 0   customer_unique_id             96477 non-null  object        \n",
            " 1   customer_city                  96477 non-null  object        \n",
            " 2   customer_state                 96477 non-null  object        \n",
            " 3   order_id                       96477 non-null  object        \n",
            " 4   order_status                   96477 non-null  object        \n",
            " 5   order_purchase_timestamp       96477 non-null  datetime64[ns]\n",
            " 6   order_estimated_delivery_date  96477 non-null  datetime64[ns]\n",
            " 7   order_item_id                  96477 non-null  int64         \n",
            " 8   payment_value                  96477 non-null  float64       \n",
            " 9   delivery_against_estimated     96469 non-null  float64       \n",
            " 10  order_purchase_year            96477 non-null  int64         \n",
            " 11  order_purchase_month           96477 non-null  int64         \n",
            " 12  order_purchase_dayofweek       96477 non-null  int64         \n",
            " 13  order_purchase_hour            96477 non-null  int64         \n",
            " 14  order_purchase_day             96477 non-null  object        \n",
            " 15  order_purchase_mon             96477 non-null  object        \n",
            " 16  month_year                     96477 non-null  object        \n",
            "dtypes: datetime64[ns](2), float64(2), int64(5), object(8)\n",
            "memory usage: 13.2+ MB\n"
          ],
          "name": "stdout"
        }
      ]
    },
    {
      "cell_type": "code",
      "metadata": {
        "id": "AxfspK_qtPf9",
        "outputId": "57b79d8c-dd1c-4762-c35b-db3b497a41a5"
      },
      "source": [
        "final_df.head()"
      ],
      "execution_count": null,
      "outputs": [
        {
          "output_type": "execute_result",
          "data": {
            "text/html": [
              "<div>\n",
              "<style scoped>\n",
              "    .dataframe tbody tr th:only-of-type {\n",
              "        vertical-align: middle;\n",
              "    }\n",
              "\n",
              "    .dataframe tbody tr th {\n",
              "        vertical-align: top;\n",
              "    }\n",
              "\n",
              "    .dataframe thead th {\n",
              "        text-align: right;\n",
              "    }\n",
              "</style>\n",
              "<table border=\"1\" class=\"dataframe\">\n",
              "  <thead>\n",
              "    <tr style=\"text-align: right;\">\n",
              "      <th></th>\n",
              "      <th>customer_unique_id</th>\n",
              "      <th>customer_city</th>\n",
              "      <th>customer_state</th>\n",
              "      <th>order_id</th>\n",
              "      <th>order_status</th>\n",
              "      <th>order_purchase_timestamp</th>\n",
              "      <th>order_estimated_delivery_date</th>\n",
              "      <th>order_item_id</th>\n",
              "      <th>payment_value</th>\n",
              "      <th>delivery_against_estimated</th>\n",
              "      <th>order_purchase_year</th>\n",
              "      <th>order_purchase_month</th>\n",
              "      <th>order_purchase_dayofweek</th>\n",
              "      <th>order_purchase_hour</th>\n",
              "      <th>order_purchase_day</th>\n",
              "      <th>order_purchase_mon</th>\n",
              "      <th>month_year</th>\n",
              "    </tr>\n",
              "  </thead>\n",
              "  <tbody>\n",
              "    <tr>\n",
              "      <th>0</th>\n",
              "      <td>861eff4711a542e4b93843c6dd7febb0</td>\n",
              "      <td>franca</td>\n",
              "      <td>SP</td>\n",
              "      <td>00e7ee1b050b8499577073aeb2a297a1</td>\n",
              "      <td>delivered</td>\n",
              "      <td>2017-05-16 15:05:35</td>\n",
              "      <td>2017-06-05</td>\n",
              "      <td>1</td>\n",
              "      <td>146.87</td>\n",
              "      <td>10.0</td>\n",
              "      <td>2017</td>\n",
              "      <td>5</td>\n",
              "      <td>1</td>\n",
              "      <td>15</td>\n",
              "      <td>Tue</td>\n",
              "      <td>May</td>\n",
              "      <td>2017-05</td>\n",
              "    </tr>\n",
              "    <tr>\n",
              "      <th>1</th>\n",
              "      <td>290c77bc529b7ac935b93aa66c333dc3</td>\n",
              "      <td>sao bernardo do campo</td>\n",
              "      <td>SP</td>\n",
              "      <td>29150127e6685892b6eab3eec79f59c7</td>\n",
              "      <td>delivered</td>\n",
              "      <td>2018-01-12 20:48:24</td>\n",
              "      <td>2018-02-06</td>\n",
              "      <td>1</td>\n",
              "      <td>335.48</td>\n",
              "      <td>7.0</td>\n",
              "      <td>2018</td>\n",
              "      <td>1</td>\n",
              "      <td>4</td>\n",
              "      <td>20</td>\n",
              "      <td>Fri</td>\n",
              "      <td>Jan</td>\n",
              "      <td>2018-01</td>\n",
              "    </tr>\n",
              "    <tr>\n",
              "      <th>2</th>\n",
              "      <td>060e732b5b29e8181a18229c7b0b2b5e</td>\n",
              "      <td>sao paulo</td>\n",
              "      <td>SP</td>\n",
              "      <td>b2059ed67ce144a36e2aa97d2c9e9ad2</td>\n",
              "      <td>delivered</td>\n",
              "      <td>2018-05-19 16:07:45</td>\n",
              "      <td>2018-06-13</td>\n",
              "      <td>1</td>\n",
              "      <td>157.73</td>\n",
              "      <td>-2.0</td>\n",
              "      <td>2018</td>\n",
              "      <td>5</td>\n",
              "      <td>5</td>\n",
              "      <td>16</td>\n",
              "      <td>Sat</td>\n",
              "      <td>May</td>\n",
              "      <td>2018-05</td>\n",
              "    </tr>\n",
              "    <tr>\n",
              "      <th>3</th>\n",
              "      <td>259dac757896d24d7702b9acbbff3f3c</td>\n",
              "      <td>mogi das cruzes</td>\n",
              "      <td>SP</td>\n",
              "      <td>951670f92359f4fe4a63112aa7306eba</td>\n",
              "      <td>delivered</td>\n",
              "      <td>2018-03-13 16:06:38</td>\n",
              "      <td>2018-04-10</td>\n",
              "      <td>1</td>\n",
              "      <td>173.30</td>\n",
              "      <td>12.0</td>\n",
              "      <td>2018</td>\n",
              "      <td>3</td>\n",
              "      <td>1</td>\n",
              "      <td>16</td>\n",
              "      <td>Tue</td>\n",
              "      <td>Mar</td>\n",
              "      <td>2018-03</td>\n",
              "    </tr>\n",
              "    <tr>\n",
              "      <th>4</th>\n",
              "      <td>345ecd01c38d18a9036ed96c73b8d066</td>\n",
              "      <td>campinas</td>\n",
              "      <td>SP</td>\n",
              "      <td>6b7d50bd145f6fc7f33cebabd7e49d0f</td>\n",
              "      <td>delivered</td>\n",
              "      <td>2018-07-29 09:51:30</td>\n",
              "      <td>2018-08-15</td>\n",
              "      <td>1</td>\n",
              "      <td>252.25</td>\n",
              "      <td>5.0</td>\n",
              "      <td>2018</td>\n",
              "      <td>7</td>\n",
              "      <td>6</td>\n",
              "      <td>9</td>\n",
              "      <td>Sun</td>\n",
              "      <td>Jul</td>\n",
              "      <td>2018-07</td>\n",
              "    </tr>\n",
              "  </tbody>\n",
              "</table>\n",
              "</div>"
            ],
            "text/plain": [
              "                 customer_unique_id          customer_city customer_state  \\\n",
              "0  861eff4711a542e4b93843c6dd7febb0                 franca             SP   \n",
              "1  290c77bc529b7ac935b93aa66c333dc3  sao bernardo do campo             SP   \n",
              "2  060e732b5b29e8181a18229c7b0b2b5e              sao paulo             SP   \n",
              "3  259dac757896d24d7702b9acbbff3f3c        mogi das cruzes             SP   \n",
              "4  345ecd01c38d18a9036ed96c73b8d066               campinas             SP   \n",
              "\n",
              "                           order_id order_status order_purchase_timestamp  \\\n",
              "0  00e7ee1b050b8499577073aeb2a297a1    delivered      2017-05-16 15:05:35   \n",
              "1  29150127e6685892b6eab3eec79f59c7    delivered      2018-01-12 20:48:24   \n",
              "2  b2059ed67ce144a36e2aa97d2c9e9ad2    delivered      2018-05-19 16:07:45   \n",
              "3  951670f92359f4fe4a63112aa7306eba    delivered      2018-03-13 16:06:38   \n",
              "4  6b7d50bd145f6fc7f33cebabd7e49d0f    delivered      2018-07-29 09:51:30   \n",
              "\n",
              "  order_estimated_delivery_date  order_item_id  payment_value  \\\n",
              "0                    2017-06-05              1         146.87   \n",
              "1                    2018-02-06              1         335.48   \n",
              "2                    2018-06-13              1         157.73   \n",
              "3                    2018-04-10              1         173.30   \n",
              "4                    2018-08-15              1         252.25   \n",
              "\n",
              "   delivery_against_estimated  order_purchase_year  order_purchase_month  \\\n",
              "0                        10.0                 2017                     5   \n",
              "1                         7.0                 2018                     1   \n",
              "2                        -2.0                 2018                     5   \n",
              "3                        12.0                 2018                     3   \n",
              "4                         5.0                 2018                     7   \n",
              "\n",
              "   order_purchase_dayofweek  order_purchase_hour order_purchase_day  \\\n",
              "0                         1                   15                Tue   \n",
              "1                         4                   20                Fri   \n",
              "2                         5                   16                Sat   \n",
              "3                         1                   16                Tue   \n",
              "4                         6                    9                Sun   \n",
              "\n",
              "  order_purchase_mon month_year  \n",
              "0                May    2017-05  \n",
              "1                Jan    2018-01  \n",
              "2                May    2018-05  \n",
              "3                Mar    2018-03  \n",
              "4                Jul    2018-07  "
            ]
          },
          "metadata": {
            "tags": []
          },
          "execution_count": 22
        }
      ]
    },
    {
      "cell_type": "code",
      "metadata": {
        "id": "fiEuLcBXtPgA",
        "outputId": "3ee17102-3184-4372-86ed-ec73ff7f810e"
      },
      "source": [
        "# displaying missing value counts and corresponding percentage against total observations\n",
        "\n",
        "missing_values = final_df.isnull().sum().sort_values(ascending = False)\n",
        "percentage = round((final_df.isnull().sum()/final_df.isnull().count()*100),2).sort_values(ascending = False)\n",
        "pd.concat([missing_values, percentage], axis=1, keys=['Values', 'Percentage'])"
      ],
      "execution_count": null,
      "outputs": [
        {
          "output_type": "execute_result",
          "data": {
            "text/html": [
              "<div>\n",
              "<style scoped>\n",
              "    .dataframe tbody tr th:only-of-type {\n",
              "        vertical-align: middle;\n",
              "    }\n",
              "\n",
              "    .dataframe tbody tr th {\n",
              "        vertical-align: top;\n",
              "    }\n",
              "\n",
              "    .dataframe thead th {\n",
              "        text-align: right;\n",
              "    }\n",
              "</style>\n",
              "<table border=\"1\" class=\"dataframe\">\n",
              "  <thead>\n",
              "    <tr style=\"text-align: right;\">\n",
              "      <th></th>\n",
              "      <th>Values</th>\n",
              "      <th>Percentage</th>\n",
              "    </tr>\n",
              "  </thead>\n",
              "  <tbody>\n",
              "    <tr>\n",
              "      <th>delivery_against_estimated</th>\n",
              "      <td>8</td>\n",
              "      <td>0.01</td>\n",
              "    </tr>\n",
              "    <tr>\n",
              "      <th>month_year</th>\n",
              "      <td>0</td>\n",
              "      <td>0.00</td>\n",
              "    </tr>\n",
              "    <tr>\n",
              "      <th>order_item_id</th>\n",
              "      <td>0</td>\n",
              "      <td>0.00</td>\n",
              "    </tr>\n",
              "    <tr>\n",
              "      <th>customer_city</th>\n",
              "      <td>0</td>\n",
              "      <td>0.00</td>\n",
              "    </tr>\n",
              "    <tr>\n",
              "      <th>customer_state</th>\n",
              "      <td>0</td>\n",
              "      <td>0.00</td>\n",
              "    </tr>\n",
              "    <tr>\n",
              "      <th>order_id</th>\n",
              "      <td>0</td>\n",
              "      <td>0.00</td>\n",
              "    </tr>\n",
              "    <tr>\n",
              "      <th>order_status</th>\n",
              "      <td>0</td>\n",
              "      <td>0.00</td>\n",
              "    </tr>\n",
              "    <tr>\n",
              "      <th>order_purchase_timestamp</th>\n",
              "      <td>0</td>\n",
              "      <td>0.00</td>\n",
              "    </tr>\n",
              "    <tr>\n",
              "      <th>order_estimated_delivery_date</th>\n",
              "      <td>0</td>\n",
              "      <td>0.00</td>\n",
              "    </tr>\n",
              "    <tr>\n",
              "      <th>payment_value</th>\n",
              "      <td>0</td>\n",
              "      <td>0.00</td>\n",
              "    </tr>\n",
              "    <tr>\n",
              "      <th>order_purchase_mon</th>\n",
              "      <td>0</td>\n",
              "      <td>0.00</td>\n",
              "    </tr>\n",
              "    <tr>\n",
              "      <th>order_purchase_year</th>\n",
              "      <td>0</td>\n",
              "      <td>0.00</td>\n",
              "    </tr>\n",
              "    <tr>\n",
              "      <th>order_purchase_month</th>\n",
              "      <td>0</td>\n",
              "      <td>0.00</td>\n",
              "    </tr>\n",
              "    <tr>\n",
              "      <th>order_purchase_dayofweek</th>\n",
              "      <td>0</td>\n",
              "      <td>0.00</td>\n",
              "    </tr>\n",
              "    <tr>\n",
              "      <th>order_purchase_hour</th>\n",
              "      <td>0</td>\n",
              "      <td>0.00</td>\n",
              "    </tr>\n",
              "    <tr>\n",
              "      <th>order_purchase_day</th>\n",
              "      <td>0</td>\n",
              "      <td>0.00</td>\n",
              "    </tr>\n",
              "    <tr>\n",
              "      <th>customer_unique_id</th>\n",
              "      <td>0</td>\n",
              "      <td>0.00</td>\n",
              "    </tr>\n",
              "  </tbody>\n",
              "</table>\n",
              "</div>"
            ],
            "text/plain": [
              "                               Values  Percentage\n",
              "delivery_against_estimated          8        0.01\n",
              "month_year                          0        0.00\n",
              "order_item_id                       0        0.00\n",
              "customer_city                       0        0.00\n",
              "customer_state                      0        0.00\n",
              "order_id                            0        0.00\n",
              "order_status                        0        0.00\n",
              "order_purchase_timestamp            0        0.00\n",
              "order_estimated_delivery_date       0        0.00\n",
              "payment_value                       0        0.00\n",
              "order_purchase_mon                  0        0.00\n",
              "order_purchase_year                 0        0.00\n",
              "order_purchase_month                0        0.00\n",
              "order_purchase_dayofweek            0        0.00\n",
              "order_purchase_hour                 0        0.00\n",
              "order_purchase_day                  0        0.00\n",
              "customer_unique_id                  0        0.00"
            ]
          },
          "metadata": {
            "tags": []
          },
          "execution_count": 23
        }
      ]
    },
    {
      "cell_type": "code",
      "metadata": {
        "id": "adSaQEf9tPgE",
        "outputId": "de4a4a83-4e7c-4e1d-d270-09759aed29dd"
      },
      "source": [
        "# dropping columns which is not required for further analysis\n",
        "\n",
        "final_df.drop(['customer_id','customer_zip_code_prefix','order_delivered_customer_date',\n",
        "               'order_delivered_carrier_date','order_approved_at'],axis=1,inplace=True)"
      ],
      "execution_count": null,
      "outputs": [
        {
          "output_type": "error",
          "ename": "KeyError",
          "evalue": "\"['customer_id' 'customer_zip_code_prefix' 'order_delivered_customer_date'\\n 'order_delivered_carrier_date' 'order_approved_at'] not found in axis\"",
          "traceback": [
            "\u001b[1;31m---------------------------------------------------------------------------\u001b[0m",
            "\u001b[1;31mKeyError\u001b[0m                                  Traceback (most recent call last)",
            "\u001b[1;32m<ipython-input-24-a177cbd0f5ef>\u001b[0m in \u001b[0;36m<module>\u001b[1;34m\u001b[0m\n\u001b[0;32m      2\u001b[0m \u001b[1;33m\u001b[0m\u001b[0m\n\u001b[0;32m      3\u001b[0m final_df.drop(['customer_id','customer_zip_code_prefix','order_delivered_customer_date',\n\u001b[1;32m----> 4\u001b[1;33m                'order_delivered_carrier_date','order_approved_at'],axis=1,inplace=True)\n\u001b[0m",
            "\u001b[1;32m~\\Anaconda3\\lib\\site-packages\\pandas\\core\\frame.py\u001b[0m in \u001b[0;36mdrop\u001b[1;34m(self, labels, axis, index, columns, level, inplace, errors)\u001b[0m\n\u001b[0;32m   4168\u001b[0m             \u001b[0mlevel\u001b[0m\u001b[1;33m=\u001b[0m\u001b[0mlevel\u001b[0m\u001b[1;33m,\u001b[0m\u001b[1;33m\u001b[0m\u001b[1;33m\u001b[0m\u001b[0m\n\u001b[0;32m   4169\u001b[0m             \u001b[0minplace\u001b[0m\u001b[1;33m=\u001b[0m\u001b[0minplace\u001b[0m\u001b[1;33m,\u001b[0m\u001b[1;33m\u001b[0m\u001b[1;33m\u001b[0m\u001b[0m\n\u001b[1;32m-> 4170\u001b[1;33m             \u001b[0merrors\u001b[0m\u001b[1;33m=\u001b[0m\u001b[0merrors\u001b[0m\u001b[1;33m,\u001b[0m\u001b[1;33m\u001b[0m\u001b[1;33m\u001b[0m\u001b[0m\n\u001b[0m\u001b[0;32m   4171\u001b[0m         )\n\u001b[0;32m   4172\u001b[0m \u001b[1;33m\u001b[0m\u001b[0m\n",
            "\u001b[1;32m~\\Anaconda3\\lib\\site-packages\\pandas\\core\\generic.py\u001b[0m in \u001b[0;36mdrop\u001b[1;34m(self, labels, axis, index, columns, level, inplace, errors)\u001b[0m\n\u001b[0;32m   3885\u001b[0m         \u001b[1;32mfor\u001b[0m \u001b[0maxis\u001b[0m\u001b[1;33m,\u001b[0m \u001b[0mlabels\u001b[0m \u001b[1;32min\u001b[0m \u001b[0maxes\u001b[0m\u001b[1;33m.\u001b[0m\u001b[0mitems\u001b[0m\u001b[1;33m(\u001b[0m\u001b[1;33m)\u001b[0m\u001b[1;33m:\u001b[0m\u001b[1;33m\u001b[0m\u001b[1;33m\u001b[0m\u001b[0m\n\u001b[0;32m   3886\u001b[0m             \u001b[1;32mif\u001b[0m \u001b[0mlabels\u001b[0m \u001b[1;32mis\u001b[0m \u001b[1;32mnot\u001b[0m \u001b[1;32mNone\u001b[0m\u001b[1;33m:\u001b[0m\u001b[1;33m\u001b[0m\u001b[1;33m\u001b[0m\u001b[0m\n\u001b[1;32m-> 3887\u001b[1;33m                 \u001b[0mobj\u001b[0m \u001b[1;33m=\u001b[0m \u001b[0mobj\u001b[0m\u001b[1;33m.\u001b[0m\u001b[0m_drop_axis\u001b[0m\u001b[1;33m(\u001b[0m\u001b[0mlabels\u001b[0m\u001b[1;33m,\u001b[0m \u001b[0maxis\u001b[0m\u001b[1;33m,\u001b[0m \u001b[0mlevel\u001b[0m\u001b[1;33m=\u001b[0m\u001b[0mlevel\u001b[0m\u001b[1;33m,\u001b[0m \u001b[0merrors\u001b[0m\u001b[1;33m=\u001b[0m\u001b[0merrors\u001b[0m\u001b[1;33m)\u001b[0m\u001b[1;33m\u001b[0m\u001b[1;33m\u001b[0m\u001b[0m\n\u001b[0m\u001b[0;32m   3888\u001b[0m \u001b[1;33m\u001b[0m\u001b[0m\n\u001b[0;32m   3889\u001b[0m         \u001b[1;32mif\u001b[0m \u001b[0minplace\u001b[0m\u001b[1;33m:\u001b[0m\u001b[1;33m\u001b[0m\u001b[1;33m\u001b[0m\u001b[0m\n",
            "\u001b[1;32m~\\Anaconda3\\lib\\site-packages\\pandas\\core\\generic.py\u001b[0m in \u001b[0;36m_drop_axis\u001b[1;34m(self, labels, axis, level, errors)\u001b[0m\n\u001b[0;32m   3919\u001b[0m                 \u001b[0mnew_axis\u001b[0m \u001b[1;33m=\u001b[0m \u001b[0maxis\u001b[0m\u001b[1;33m.\u001b[0m\u001b[0mdrop\u001b[0m\u001b[1;33m(\u001b[0m\u001b[0mlabels\u001b[0m\u001b[1;33m,\u001b[0m \u001b[0mlevel\u001b[0m\u001b[1;33m=\u001b[0m\u001b[0mlevel\u001b[0m\u001b[1;33m,\u001b[0m \u001b[0merrors\u001b[0m\u001b[1;33m=\u001b[0m\u001b[0merrors\u001b[0m\u001b[1;33m)\u001b[0m\u001b[1;33m\u001b[0m\u001b[1;33m\u001b[0m\u001b[0m\n\u001b[0;32m   3920\u001b[0m             \u001b[1;32melse\u001b[0m\u001b[1;33m:\u001b[0m\u001b[1;33m\u001b[0m\u001b[1;33m\u001b[0m\u001b[0m\n\u001b[1;32m-> 3921\u001b[1;33m                 \u001b[0mnew_axis\u001b[0m \u001b[1;33m=\u001b[0m \u001b[0maxis\u001b[0m\u001b[1;33m.\u001b[0m\u001b[0mdrop\u001b[0m\u001b[1;33m(\u001b[0m\u001b[0mlabels\u001b[0m\u001b[1;33m,\u001b[0m \u001b[0merrors\u001b[0m\u001b[1;33m=\u001b[0m\u001b[0merrors\u001b[0m\u001b[1;33m)\u001b[0m\u001b[1;33m\u001b[0m\u001b[1;33m\u001b[0m\u001b[0m\n\u001b[0m\u001b[0;32m   3922\u001b[0m             \u001b[0mresult\u001b[0m \u001b[1;33m=\u001b[0m \u001b[0mself\u001b[0m\u001b[1;33m.\u001b[0m\u001b[0mreindex\u001b[0m\u001b[1;33m(\u001b[0m\u001b[1;33m**\u001b[0m\u001b[1;33m{\u001b[0m\u001b[0maxis_name\u001b[0m\u001b[1;33m:\u001b[0m \u001b[0mnew_axis\u001b[0m\u001b[1;33m}\u001b[0m\u001b[1;33m)\u001b[0m\u001b[1;33m\u001b[0m\u001b[1;33m\u001b[0m\u001b[0m\n\u001b[0;32m   3923\u001b[0m \u001b[1;33m\u001b[0m\u001b[0m\n",
            "\u001b[1;32m~\\Anaconda3\\lib\\site-packages\\pandas\\core\\indexes\\base.py\u001b[0m in \u001b[0;36mdrop\u001b[1;34m(self, labels, errors)\u001b[0m\n\u001b[0;32m   5280\u001b[0m         \u001b[1;32mif\u001b[0m \u001b[0mmask\u001b[0m\u001b[1;33m.\u001b[0m\u001b[0many\u001b[0m\u001b[1;33m(\u001b[0m\u001b[1;33m)\u001b[0m\u001b[1;33m:\u001b[0m\u001b[1;33m\u001b[0m\u001b[1;33m\u001b[0m\u001b[0m\n\u001b[0;32m   5281\u001b[0m             \u001b[1;32mif\u001b[0m \u001b[0merrors\u001b[0m \u001b[1;33m!=\u001b[0m \u001b[1;34m\"ignore\"\u001b[0m\u001b[1;33m:\u001b[0m\u001b[1;33m\u001b[0m\u001b[1;33m\u001b[0m\u001b[0m\n\u001b[1;32m-> 5282\u001b[1;33m                 \u001b[1;32mraise\u001b[0m \u001b[0mKeyError\u001b[0m\u001b[1;33m(\u001b[0m\u001b[1;34mf\"{labels[mask]} not found in axis\"\u001b[0m\u001b[1;33m)\u001b[0m\u001b[1;33m\u001b[0m\u001b[1;33m\u001b[0m\u001b[0m\n\u001b[0m\u001b[0;32m   5283\u001b[0m             \u001b[0mindexer\u001b[0m \u001b[1;33m=\u001b[0m \u001b[0mindexer\u001b[0m\u001b[1;33m[\u001b[0m\u001b[1;33m~\u001b[0m\u001b[0mmask\u001b[0m\u001b[1;33m]\u001b[0m\u001b[1;33m\u001b[0m\u001b[1;33m\u001b[0m\u001b[0m\n\u001b[0;32m   5284\u001b[0m         \u001b[1;32mreturn\u001b[0m \u001b[0mself\u001b[0m\u001b[1;33m.\u001b[0m\u001b[0mdelete\u001b[0m\u001b[1;33m(\u001b[0m\u001b[0mindexer\u001b[0m\u001b[1;33m)\u001b[0m\u001b[1;33m\u001b[0m\u001b[1;33m\u001b[0m\u001b[0m\n",
            "\u001b[1;31mKeyError\u001b[0m: \"['customer_id' 'customer_zip_code_prefix' 'order_delivered_customer_date'\\n 'order_delivered_carrier_date' 'order_approved_at'] not found in axis\""
          ]
        }
      ]
    },
    {
      "cell_type": "code",
      "metadata": {
        "id": "xEO3SFDYtPgG",
        "outputId": "a5943cf9-634c-4e73-fa8a-94fb9dceb10d"
      },
      "source": [
        "# displaying final shape of data\n",
        "\n",
        "final_df.shape"
      ],
      "execution_count": null,
      "outputs": [
        {
          "output_type": "execute_result",
          "data": {
            "text/plain": [
              "(96477, 17)"
            ]
          },
          "metadata": {
            "tags": []
          },
          "execution_count": 25
        }
      ]
    },
    {
      "cell_type": "code",
      "metadata": {
        "id": "jDXMlOOytPgJ",
        "outputId": "2589a41c-7011-49cf-c22e-04145ac31321"
      },
      "source": [
        "# displaying summary statistics of final dataframe\n",
        "\n",
        "final_df.describe()"
      ],
      "execution_count": null,
      "outputs": [
        {
          "output_type": "execute_result",
          "data": {
            "text/html": [
              "<div>\n",
              "<style scoped>\n",
              "    .dataframe tbody tr th:only-of-type {\n",
              "        vertical-align: middle;\n",
              "    }\n",
              "\n",
              "    .dataframe tbody tr th {\n",
              "        vertical-align: top;\n",
              "    }\n",
              "\n",
              "    .dataframe thead th {\n",
              "        text-align: right;\n",
              "    }\n",
              "</style>\n",
              "<table border=\"1\" class=\"dataframe\">\n",
              "  <thead>\n",
              "    <tr style=\"text-align: right;\">\n",
              "      <th></th>\n",
              "      <th>order_item_id</th>\n",
              "      <th>payment_value</th>\n",
              "      <th>delivery_against_estimated</th>\n",
              "      <th>order_purchase_year</th>\n",
              "      <th>order_purchase_month</th>\n",
              "      <th>order_purchase_dayofweek</th>\n",
              "      <th>order_purchase_hour</th>\n",
              "    </tr>\n",
              "  </thead>\n",
              "  <tbody>\n",
              "    <tr>\n",
              "      <th>count</th>\n",
              "      <td>96477.000000</td>\n",
              "      <td>96477.000000</td>\n",
              "      <td>96469.000000</td>\n",
              "      <td>96477.000000</td>\n",
              "      <td>96477.000000</td>\n",
              "      <td>96477.000000</td>\n",
              "      <td>96477.000000</td>\n",
              "    </tr>\n",
              "    <tr>\n",
              "      <th>mean</th>\n",
              "      <td>1.142179</td>\n",
              "      <td>159.856357</td>\n",
              "      <td>10.876385</td>\n",
              "      <td>2017.544347</td>\n",
              "      <td>6.031085</td>\n",
              "      <td>2.756574</td>\n",
              "      <td>14.773221</td>\n",
              "    </tr>\n",
              "    <tr>\n",
              "      <th>std</th>\n",
              "      <td>0.538773</td>\n",
              "      <td>218.813144</td>\n",
              "      <td>10.180991</td>\n",
              "      <td>0.503538</td>\n",
              "      <td>3.228394</td>\n",
              "      <td>1.967068</td>\n",
              "      <td>5.328394</td>\n",
              "    </tr>\n",
              "    <tr>\n",
              "      <th>min</th>\n",
              "      <td>1.000000</td>\n",
              "      <td>9.590000</td>\n",
              "      <td>-189.000000</td>\n",
              "      <td>2016.000000</td>\n",
              "      <td>1.000000</td>\n",
              "      <td>0.000000</td>\n",
              "      <td>0.000000</td>\n",
              "    </tr>\n",
              "    <tr>\n",
              "      <th>25%</th>\n",
              "      <td>1.000000</td>\n",
              "      <td>61.880000</td>\n",
              "      <td>6.000000</td>\n",
              "      <td>2017.000000</td>\n",
              "      <td>3.000000</td>\n",
              "      <td>1.000000</td>\n",
              "      <td>11.000000</td>\n",
              "    </tr>\n",
              "    <tr>\n",
              "      <th>50%</th>\n",
              "      <td>1.000000</td>\n",
              "      <td>105.280000</td>\n",
              "      <td>11.000000</td>\n",
              "      <td>2018.000000</td>\n",
              "      <td>6.000000</td>\n",
              "      <td>3.000000</td>\n",
              "      <td>15.000000</td>\n",
              "    </tr>\n",
              "    <tr>\n",
              "      <th>75%</th>\n",
              "      <td>1.000000</td>\n",
              "      <td>176.330000</td>\n",
              "      <td>16.000000</td>\n",
              "      <td>2018.000000</td>\n",
              "      <td>8.000000</td>\n",
              "      <td>4.000000</td>\n",
              "      <td>19.000000</td>\n",
              "    </tr>\n",
              "    <tr>\n",
              "      <th>max</th>\n",
              "      <td>21.000000</td>\n",
              "      <td>13664.080000</td>\n",
              "      <td>146.000000</td>\n",
              "      <td>2018.000000</td>\n",
              "      <td>12.000000</td>\n",
              "      <td>6.000000</td>\n",
              "      <td>23.000000</td>\n",
              "    </tr>\n",
              "  </tbody>\n",
              "</table>\n",
              "</div>"
            ],
            "text/plain": [
              "       order_item_id  payment_value  delivery_against_estimated  \\\n",
              "count   96477.000000   96477.000000                96469.000000   \n",
              "mean        1.142179     159.856357                   10.876385   \n",
              "std         0.538773     218.813144                   10.180991   \n",
              "min         1.000000       9.590000                 -189.000000   \n",
              "25%         1.000000      61.880000                    6.000000   \n",
              "50%         1.000000     105.280000                   11.000000   \n",
              "75%         1.000000     176.330000                   16.000000   \n",
              "max        21.000000   13664.080000                  146.000000   \n",
              "\n",
              "       order_purchase_year  order_purchase_month  order_purchase_dayofweek  \\\n",
              "count         96477.000000          96477.000000              96477.000000   \n",
              "mean           2017.544347              6.031085                  2.756574   \n",
              "std               0.503538              3.228394                  1.967068   \n",
              "min            2016.000000              1.000000                  0.000000   \n",
              "25%            2017.000000              3.000000                  1.000000   \n",
              "50%            2018.000000              6.000000                  3.000000   \n",
              "75%            2018.000000              8.000000                  4.000000   \n",
              "max            2018.000000             12.000000                  6.000000   \n",
              "\n",
              "       order_purchase_hour  \n",
              "count         96477.000000  \n",
              "mean             14.773221  \n",
              "std               5.328394  \n",
              "min               0.000000  \n",
              "25%              11.000000  \n",
              "50%              15.000000  \n",
              "75%              19.000000  \n",
              "max              23.000000  "
            ]
          },
          "metadata": {
            "tags": []
          },
          "execution_count": 26
        }
      ]
    },
    {
      "cell_type": "code",
      "metadata": {
        "id": "AgTAJZlTtPgL",
        "outputId": "50b0c1ef-8813-42df-d5fd-24f8a58c4010"
      },
      "source": [
        "final_df.columns"
      ],
      "execution_count": null,
      "outputs": [
        {
          "output_type": "execute_result",
          "data": {
            "text/plain": [
              "Index(['customer_unique_id', 'customer_city', 'customer_state', 'order_id',\n",
              "       'order_status', 'order_purchase_timestamp',\n",
              "       'order_estimated_delivery_date', 'order_item_id', 'payment_value',\n",
              "       'delivery_against_estimated', 'order_purchase_year',\n",
              "       'order_purchase_month', 'order_purchase_dayofweek',\n",
              "       'order_purchase_hour', 'order_purchase_day', 'order_purchase_mon',\n",
              "       'month_year'],\n",
              "      dtype='object')"
            ]
          },
          "metadata": {
            "tags": []
          },
          "execution_count": 27
        }
      ]
    },
    {
      "cell_type": "code",
      "metadata": {
        "id": "Kty-AH0RtPgN",
        "outputId": "1ab2d3a2-b899-4586-e929-e688acf6d93f"
      },
      "source": [
        "final_df['order_status'].value_counts()"
      ],
      "execution_count": null,
      "outputs": [
        {
          "output_type": "execute_result",
          "data": {
            "text/plain": [
              "delivered    96477\n",
              "Name: order_status, dtype: int64"
            ]
          },
          "metadata": {
            "tags": []
          },
          "execution_count": 28
        }
      ]
    },
    {
      "cell_type": "code",
      "metadata": {
        "id": "AocyVzDstPgQ"
      },
      "source": [
        "# final dataframe with oly delivered items\n",
        "\n",
        "final_df=final_df[final_df['order_status']=='delivered']"
      ],
      "execution_count": null,
      "outputs": []
    },
    {
      "cell_type": "code",
      "metadata": {
        "id": "qfddoTPMtPgT",
        "outputId": "09362abe-ef88-4479-9730-e949b51355c2"
      },
      "source": [
        "final_df.shape"
      ],
      "execution_count": null,
      "outputs": [
        {
          "output_type": "execute_result",
          "data": {
            "text/plain": [
              "(96477, 17)"
            ]
          },
          "metadata": {
            "tags": []
          },
          "execution_count": 30
        }
      ]
    },
    {
      "cell_type": "markdown",
      "metadata": {
        "id": "tEXXEfp37EYo"
      },
      "source": [
        "### Monthly Revenue"
      ]
    },
    {
      "cell_type": "code",
      "metadata": {
        "id": "MKbPyphr7EYo",
        "outputId": "f56fb39b-10f5-42cb-9979-48f772582cf1"
      },
      "source": [
        "# Monthly Revenue \n",
        "\n",
        "df_revenue = final_df.groupby(['month_year'])['payment_value'].sum().reset_index()\n",
        "df_revenue"
      ],
      "execution_count": null,
      "outputs": [
        {
          "output_type": "execute_result",
          "data": {
            "text/html": [
              "<div>\n",
              "<style scoped>\n",
              "    .dataframe tbody tr th:only-of-type {\n",
              "        vertical-align: middle;\n",
              "    }\n",
              "\n",
              "    .dataframe tbody tr th {\n",
              "        vertical-align: top;\n",
              "    }\n",
              "\n",
              "    .dataframe thead th {\n",
              "        text-align: right;\n",
              "    }\n",
              "</style>\n",
              "<table border=\"1\" class=\"dataframe\">\n",
              "  <thead>\n",
              "    <tr style=\"text-align: right;\">\n",
              "      <th></th>\n",
              "      <th>month_year</th>\n",
              "      <th>payment_value</th>\n",
              "    </tr>\n",
              "  </thead>\n",
              "  <tbody>\n",
              "    <tr>\n",
              "      <th>0</th>\n",
              "      <td>2016-10</td>\n",
              "      <td>46566.71</td>\n",
              "    </tr>\n",
              "    <tr>\n",
              "      <th>1</th>\n",
              "      <td>2016-12</td>\n",
              "      <td>19.62</td>\n",
              "    </tr>\n",
              "    <tr>\n",
              "      <th>2</th>\n",
              "      <td>2017-01</td>\n",
              "      <td>127545.67</td>\n",
              "    </tr>\n",
              "    <tr>\n",
              "      <th>3</th>\n",
              "      <td>2017-02</td>\n",
              "      <td>271298.65</td>\n",
              "    </tr>\n",
              "    <tr>\n",
              "      <th>4</th>\n",
              "      <td>2017-03</td>\n",
              "      <td>414369.39</td>\n",
              "    </tr>\n",
              "    <tr>\n",
              "      <th>5</th>\n",
              "      <td>2017-04</td>\n",
              "      <td>390952.18</td>\n",
              "    </tr>\n",
              "    <tr>\n",
              "      <th>6</th>\n",
              "      <td>2017-05</td>\n",
              "      <td>567066.73</td>\n",
              "    </tr>\n",
              "    <tr>\n",
              "      <th>7</th>\n",
              "      <td>2017-06</td>\n",
              "      <td>490225.60</td>\n",
              "    </tr>\n",
              "    <tr>\n",
              "      <th>8</th>\n",
              "      <td>2017-07</td>\n",
              "      <td>566403.93</td>\n",
              "    </tr>\n",
              "    <tr>\n",
              "      <th>9</th>\n",
              "      <td>2017-08</td>\n",
              "      <td>646000.61</td>\n",
              "    </tr>\n",
              "    <tr>\n",
              "      <th>10</th>\n",
              "      <td>2017-09</td>\n",
              "      <td>701169.99</td>\n",
              "    </tr>\n",
              "    <tr>\n",
              "      <th>11</th>\n",
              "      <td>2017-10</td>\n",
              "      <td>751140.27</td>\n",
              "    </tr>\n",
              "    <tr>\n",
              "      <th>12</th>\n",
              "      <td>2017-11</td>\n",
              "      <td>1153528.05</td>\n",
              "    </tr>\n",
              "    <tr>\n",
              "      <th>13</th>\n",
              "      <td>2017-12</td>\n",
              "      <td>843199.17</td>\n",
              "    </tr>\n",
              "    <tr>\n",
              "      <th>14</th>\n",
              "      <td>2018-01</td>\n",
              "      <td>1078606.86</td>\n",
              "    </tr>\n",
              "    <tr>\n",
              "      <th>15</th>\n",
              "      <td>2018-02</td>\n",
              "      <td>966510.88</td>\n",
              "    </tr>\n",
              "    <tr>\n",
              "      <th>16</th>\n",
              "      <td>2018-03</td>\n",
              "      <td>1120678.00</td>\n",
              "    </tr>\n",
              "    <tr>\n",
              "      <th>17</th>\n",
              "      <td>2018-04</td>\n",
              "      <td>1132933.95</td>\n",
              "    </tr>\n",
              "    <tr>\n",
              "      <th>18</th>\n",
              "      <td>2018-05</td>\n",
              "      <td>1128836.69</td>\n",
              "    </tr>\n",
              "    <tr>\n",
              "      <th>19</th>\n",
              "      <td>2018-06</td>\n",
              "      <td>1012090.68</td>\n",
              "    </tr>\n",
              "    <tr>\n",
              "      <th>20</th>\n",
              "      <td>2018-07</td>\n",
              "      <td>1027903.86</td>\n",
              "    </tr>\n",
              "    <tr>\n",
              "      <th>21</th>\n",
              "      <td>2018-08</td>\n",
              "      <td>985414.28</td>\n",
              "    </tr>\n",
              "  </tbody>\n",
              "</table>\n",
              "</div>"
            ],
            "text/plain": [
              "   month_year  payment_value\n",
              "0     2016-10       46566.71\n",
              "1     2016-12          19.62\n",
              "2     2017-01      127545.67\n",
              "3     2017-02      271298.65\n",
              "4     2017-03      414369.39\n",
              "5     2017-04      390952.18\n",
              "6     2017-05      567066.73\n",
              "7     2017-06      490225.60\n",
              "8     2017-07      566403.93\n",
              "9     2017-08      646000.61\n",
              "10    2017-09      701169.99\n",
              "11    2017-10      751140.27\n",
              "12    2017-11     1153528.05\n",
              "13    2017-12      843199.17\n",
              "14    2018-01     1078606.86\n",
              "15    2018-02      966510.88\n",
              "16    2018-03     1120678.00\n",
              "17    2018-04     1132933.95\n",
              "18    2018-05     1128836.69\n",
              "19    2018-06     1012090.68\n",
              "20    2018-07     1027903.86\n",
              "21    2018-08      985414.28"
            ]
          },
          "metadata": {
            "tags": []
          },
          "execution_count": 31
        }
      ]
    },
    {
      "cell_type": "code",
      "metadata": {
        "id": "-ajqJqCm7EYo"
      },
      "source": [
        "# excluding incomplete data from the year 2016\n",
        "\n",
        "final_df = final_df.query(\"month_year != '2016-12' and month_year != '2016-10'\")"
      ],
      "execution_count": null,
      "outputs": []
    },
    {
      "cell_type": "code",
      "metadata": {
        "id": "gn3i1Ors7EYp",
        "outputId": "9c7e0df3-a647-4d86-f86c-a08c4809ca04"
      },
      "source": [
        "# Monthly Revenue \n",
        "\n",
        "df_revenue = final_df.groupby(['month_year'])['payment_value'].sum().reset_index()\n",
        "df_revenue.head(5)"
      ],
      "execution_count": null,
      "outputs": [
        {
          "output_type": "execute_result",
          "data": {
            "text/html": [
              "<div>\n",
              "<style scoped>\n",
              "    .dataframe tbody tr th:only-of-type {\n",
              "        vertical-align: middle;\n",
              "    }\n",
              "\n",
              "    .dataframe tbody tr th {\n",
              "        vertical-align: top;\n",
              "    }\n",
              "\n",
              "    .dataframe thead th {\n",
              "        text-align: right;\n",
              "    }\n",
              "</style>\n",
              "<table border=\"1\" class=\"dataframe\">\n",
              "  <thead>\n",
              "    <tr style=\"text-align: right;\">\n",
              "      <th></th>\n",
              "      <th>month_year</th>\n",
              "      <th>payment_value</th>\n",
              "    </tr>\n",
              "  </thead>\n",
              "  <tbody>\n",
              "    <tr>\n",
              "      <th>0</th>\n",
              "      <td>2017-01</td>\n",
              "      <td>127545.67</td>\n",
              "    </tr>\n",
              "    <tr>\n",
              "      <th>1</th>\n",
              "      <td>2017-02</td>\n",
              "      <td>271298.65</td>\n",
              "    </tr>\n",
              "    <tr>\n",
              "      <th>2</th>\n",
              "      <td>2017-03</td>\n",
              "      <td>414369.39</td>\n",
              "    </tr>\n",
              "    <tr>\n",
              "      <th>3</th>\n",
              "      <td>2017-04</td>\n",
              "      <td>390952.18</td>\n",
              "    </tr>\n",
              "    <tr>\n",
              "      <th>4</th>\n",
              "      <td>2017-05</td>\n",
              "      <td>567066.73</td>\n",
              "    </tr>\n",
              "  </tbody>\n",
              "</table>\n",
              "</div>"
            ],
            "text/plain": [
              "  month_year  payment_value\n",
              "0    2017-01      127545.67\n",
              "1    2017-02      271298.65\n",
              "2    2017-03      414369.39\n",
              "3    2017-04      390952.18\n",
              "4    2017-05      567066.73"
            ]
          },
          "metadata": {
            "tags": []
          },
          "execution_count": 33
        }
      ]
    },
    {
      "cell_type": "code",
      "metadata": {
        "id": "P3U_np4o7EYq",
        "outputId": "65f184f4-3320-441a-e1c8-195d454b10d0"
      },
      "source": [
        "# plotting the monthly revenue \n",
        "\n",
        "plt.figure(figsize=(25,10))\n",
        "\n",
        "params = {'xtick.labelsize': 15,\n",
        "          'ytick.labelsize': 15 }\n",
        "plt.rcParams.update(params)\n",
        "\n",
        "\n",
        "ax = sns.barplot(x=\"month_year\",y='payment_value' ,data=df_revenue,color='deepskyblue')\n",
        "ax.set_title('Distribution of Monthly payment value',fontsize=25)\n",
        "ax.set_xlabel(\"Months\",fontsize=20)\n",
        "ax.set_ylabel(\"Payment value\",fontsize=20)\n",
        "plt.xticks(rotation=90)\n",
        "\n",
        "\n",
        "for p in ax.patches:\n",
        "    ax.annotate('{:0.0f}'.format(p.get_height()), (p.get_x(), p.get_height()),size=15)"
      ],
      "execution_count": null,
      "outputs": [
        {
          "output_type": "display_data",
          "data": {
            "image/png": "[encoded data removed]",
            "text/plain": [
              "<Figure size 1800x720 with 1 Axes>"
            ]
          },
          "metadata": {
            "tags": [],
            "needs_background": "light"
          }
        }
      ]
    },
    {
      "cell_type": "code",
      "metadata": {
        "id": "figcF5FF7EYr",
        "outputId": "5b1dd74c-c025-4315-874c-b3eb548b3e77"
      },
      "source": [
        "#calculating for monthly revenue growth rate \n",
        "# using pct_change() function to see monthly percentage change\n",
        "\n",
        "df_revenue['MonthlyGrowth'] = df_revenue['payment_value'].pct_change()\n",
        "df_revenue.head(5)"
      ],
      "execution_count": null,
      "outputs": [
        {
          "output_type": "execute_result",
          "data": {
            "text/html": [
              "<div>\n",
              "<style scoped>\n",
              "    .dataframe tbody tr th:only-of-type {\n",
              "        vertical-align: middle;\n",
              "    }\n",
              "\n",
              "    .dataframe tbody tr th {\n",
              "        vertical-align: top;\n",
              "    }\n",
              "\n",
              "    .dataframe thead th {\n",
              "        text-align: right;\n",
              "    }\n",
              "</style>\n",
              "<table border=\"1\" class=\"dataframe\">\n",
              "  <thead>\n",
              "    <tr style=\"text-align: right;\">\n",
              "      <th></th>\n",
              "      <th>month_year</th>\n",
              "      <th>payment_value</th>\n",
              "      <th>MonthlyGrowth</th>\n",
              "    </tr>\n",
              "  </thead>\n",
              "  <tbody>\n",
              "    <tr>\n",
              "      <th>0</th>\n",
              "      <td>2017-01</td>\n",
              "      <td>127545.67</td>\n",
              "      <td>NaN</td>\n",
              "    </tr>\n",
              "    <tr>\n",
              "      <th>1</th>\n",
              "      <td>2017-02</td>\n",
              "      <td>271298.65</td>\n",
              "      <td>1.127071</td>\n",
              "    </tr>\n",
              "    <tr>\n",
              "      <th>2</th>\n",
              "      <td>2017-03</td>\n",
              "      <td>414369.39</td>\n",
              "      <td>0.527355</td>\n",
              "    </tr>\n",
              "    <tr>\n",
              "      <th>3</th>\n",
              "      <td>2017-04</td>\n",
              "      <td>390952.18</td>\n",
              "      <td>-0.056513</td>\n",
              "    </tr>\n",
              "    <tr>\n",
              "      <th>4</th>\n",
              "      <td>2017-05</td>\n",
              "      <td>567066.73</td>\n",
              "      <td>0.450476</td>\n",
              "    </tr>\n",
              "  </tbody>\n",
              "</table>\n",
              "</div>"
            ],
            "text/plain": [
              "  month_year  payment_value  MonthlyGrowth\n",
              "0    2017-01      127545.67            NaN\n",
              "1    2017-02      271298.65       1.127071\n",
              "2    2017-03      414369.39       0.527355\n",
              "3    2017-04      390952.18      -0.056513\n",
              "4    2017-05      567066.73       0.450476"
            ]
          },
          "metadata": {
            "tags": []
          },
          "execution_count": 35
        }
      ]
    },
    {
      "cell_type": "markdown",
      "metadata": {
        "id": "S1JO4HFD7EYr"
      },
      "source": [
        "### Monthly customer count"
      ]
    },
    {
      "cell_type": "code",
      "metadata": {
        "id": "-lY1UO_W7EYs",
        "outputId": "79191596-356f-4d49-a665-dada3adcef26"
      },
      "source": [
        "#creating monthly active customers dataframe by counting unique Customer IDs\n",
        "\n",
        "df_monthly_active = final_df.groupby('month_year')['customer_unique_id'].nunique().reset_index()\n",
        "df_monthly_active.head()"
      ],
      "execution_count": null,
      "outputs": [
        {
          "output_type": "execute_result",
          "data": {
            "text/html": [
              "<div>\n",
              "<style scoped>\n",
              "    .dataframe tbody tr th:only-of-type {\n",
              "        vertical-align: middle;\n",
              "    }\n",
              "\n",
              "    .dataframe tbody tr th {\n",
              "        vertical-align: top;\n",
              "    }\n",
              "\n",
              "    .dataframe thead th {\n",
              "        text-align: right;\n",
              "    }\n",
              "</style>\n",
              "<table border=\"1\" class=\"dataframe\">\n",
              "  <thead>\n",
              "    <tr style=\"text-align: right;\">\n",
              "      <th></th>\n",
              "      <th>month_year</th>\n",
              "      <th>customer_unique_id</th>\n",
              "    </tr>\n",
              "  </thead>\n",
              "  <tbody>\n",
              "    <tr>\n",
              "      <th>0</th>\n",
              "      <td>2017-01</td>\n",
              "      <td>718</td>\n",
              "    </tr>\n",
              "    <tr>\n",
              "      <th>1</th>\n",
              "      <td>2017-02</td>\n",
              "      <td>1630</td>\n",
              "    </tr>\n",
              "    <tr>\n",
              "      <th>2</th>\n",
              "      <td>2017-03</td>\n",
              "      <td>2508</td>\n",
              "    </tr>\n",
              "    <tr>\n",
              "      <th>3</th>\n",
              "      <td>2017-04</td>\n",
              "      <td>2274</td>\n",
              "    </tr>\n",
              "    <tr>\n",
              "      <th>4</th>\n",
              "      <td>2017-05</td>\n",
              "      <td>3479</td>\n",
              "    </tr>\n",
              "  </tbody>\n",
              "</table>\n",
              "</div>"
            ],
            "text/plain": [
              "  month_year  customer_unique_id\n",
              "0    2017-01                 718\n",
              "1    2017-02                1630\n",
              "2    2017-03                2508\n",
              "3    2017-04                2274\n",
              "4    2017-05                3479"
            ]
          },
          "metadata": {
            "tags": []
          },
          "execution_count": 36
        }
      ]
    },
    {
      "cell_type": "code",
      "metadata": {
        "id": "5VN-C8Zk7EYs",
        "outputId": "7bf6133b-bfb4-4f6c-ee39-63ae789c797a"
      },
      "source": [
        "# plotting the monthly active customers\n",
        "\n",
        "plt.figure(figsize=(20,10))\n",
        "\n",
        "params = {'xtick.labelsize': 10,\n",
        "          'ytick.labelsize': 10 }\n",
        "plt.rcParams.update(params)\n",
        "\n",
        "ax = sns.barplot(x=\"month_year\",y='customer_unique_id' ,data=df_monthly_active,color='deepskyblue')\n",
        "ax.set_title('Distribution of Monthly customer count',fontsize=20)\n",
        "plt.xticks(rotation=90)\n",
        "ax.set_xlabel(\"Months\",fontsize=15)\n",
        "ax.set_ylabel(\"Customer Unique Id\",fontsize=15)\n",
        "\n",
        "\n",
        "for p in ax.patches:\n",
        "    ax.annotate('{:0.0f}'.format(p.get_height()), (p.get_x()+0.1, p.get_height()),size=15)"
      ],
      "execution_count": null,
      "outputs": [
        {
          "output_type": "display_data",
          "data": {
            "image/png": "[encoded data removed]",
            "text/plain": [
              "<Figure size 1440x720 with 1 Axes>"
            ]
          },
          "metadata": {
            "tags": [],
            "needs_background": "light"
          }
        }
      ]
    },
    {
      "cell_type": "markdown",
      "metadata": {
        "id": "XBR6XcWd7EYt"
      },
      "source": [
        "### Monthly order count"
      ]
    },
    {
      "cell_type": "code",
      "metadata": {
        "id": "hkCdV8fZ7EYt",
        "outputId": "63d400fe-b94d-4e59-ae16-7a8082151d22"
      },
      "source": [
        "#creating monthly active customers dataframe by counting unique Customer IDs\n",
        "\n",
        "df_monthly_sales = final_df.groupby('month_year')['order_status'].count().reset_index()\n",
        "df_monthly_sales.head(5)"
      ],
      "execution_count": null,
      "outputs": [
        {
          "output_type": "execute_result",
          "data": {
            "text/html": [
              "<div>\n",
              "<style scoped>\n",
              "    .dataframe tbody tr th:only-of-type {\n",
              "        vertical-align: middle;\n",
              "    }\n",
              "\n",
              "    .dataframe tbody tr th {\n",
              "        vertical-align: top;\n",
              "    }\n",
              "\n",
              "    .dataframe thead th {\n",
              "        text-align: right;\n",
              "    }\n",
              "</style>\n",
              "<table border=\"1\" class=\"dataframe\">\n",
              "  <thead>\n",
              "    <tr style=\"text-align: right;\">\n",
              "      <th></th>\n",
              "      <th>month_year</th>\n",
              "      <th>order_status</th>\n",
              "    </tr>\n",
              "  </thead>\n",
              "  <tbody>\n",
              "    <tr>\n",
              "      <th>0</th>\n",
              "      <td>2017-01</td>\n",
              "      <td>750</td>\n",
              "    </tr>\n",
              "    <tr>\n",
              "      <th>1</th>\n",
              "      <td>2017-02</td>\n",
              "      <td>1653</td>\n",
              "    </tr>\n",
              "    <tr>\n",
              "      <th>2</th>\n",
              "      <td>2017-03</td>\n",
              "      <td>2546</td>\n",
              "    </tr>\n",
              "    <tr>\n",
              "      <th>3</th>\n",
              "      <td>2017-04</td>\n",
              "      <td>2303</td>\n",
              "    </tr>\n",
              "    <tr>\n",
              "      <th>4</th>\n",
              "      <td>2017-05</td>\n",
              "      <td>3546</td>\n",
              "    </tr>\n",
              "  </tbody>\n",
              "</table>\n",
              "</div>"
            ],
            "text/plain": [
              "  month_year  order_status\n",
              "0    2017-01           750\n",
              "1    2017-02          1653\n",
              "2    2017-03          2546\n",
              "3    2017-04          2303\n",
              "4    2017-05          3546"
            ]
          },
          "metadata": {
            "tags": []
          },
          "execution_count": 38
        }
      ]
    },
    {
      "cell_type": "code",
      "metadata": {
        "id": "RAEff6I27EYu",
        "outputId": "25a77513-f77f-4ea8-f4eb-97141ac1ef8e"
      },
      "source": [
        "# plotting monthly order count\n",
        "\n",
        "plt.figure(figsize=(20,10))\n",
        "params = {'xtick.labelsize': 10,\n",
        "          'ytick.labelsize': 10 }\n",
        "plt.rcParams.update(params)\n",
        "\n",
        "ax = sns.barplot(x=\"month_year\",y='order_status' ,data=df_monthly_sales,color='deepskyblue')\n",
        "ax.set_title('Distribution of Monhly order count',fontsize=20)\n",
        "ax.set_ylabel('Order count',fontsize=15)\n",
        "ax.set_xlabel('Months',fontsize=15)\n",
        "plt.xticks(rotation=90)\n",
        "\n",
        "for p in ax.patches:\n",
        "    ax.annotate('{:0.0f}'.format(p.get_height()), (p.get_x()+0.1, p.get_height()),size=15)"
      ],
      "execution_count": null,
      "outputs": [
        {
          "output_type": "display_data",
          "data": {
            "image/png": "[encoded data removed]",
            "text/plain": [
              "<Figure size 1440x720 with 1 Axes>"
            ]
          },
          "metadata": {
            "tags": [],
            "needs_background": "light"
          }
        }
      ]
    },
    {
      "cell_type": "markdown",
      "metadata": {
        "id": "0RZoZ9FMtPgV"
      },
      "source": [
        "# RFM Analysis"
      ]
    },
    {
      "cell_type": "markdown",
      "metadata": {
        "id": "zHFUViQjtPgW"
      },
      "source": [
        "### Recency Calculation"
      ]
    },
    {
      "cell_type": "code",
      "metadata": {
        "id": "BlZCK2CftPgW",
        "outputId": "982c7113-9748-4faa-9e97-c552267acd9c"
      },
      "source": [
        "# last purchase date \n",
        "\n",
        "final_df['order_purchase_timestamp'].max()"
      ],
      "execution_count": null,
      "outputs": [
        {
          "output_type": "execute_result",
          "data": {
            "text/plain": [
              "Timestamp('2018-08-29 15:00:37')"
            ]
          },
          "metadata": {
            "tags": []
          },
          "execution_count": 40
        }
      ]
    },
    {
      "cell_type": "code",
      "metadata": {
        "id": "koTiAAfQtPgY",
        "outputId": "d764721e-1e65-4460-e554-d8f9f1ee9964"
      },
      "source": [
        "final_df['order_purchase_timestamp'].min()"
      ],
      "execution_count": null,
      "outputs": [
        {
          "output_type": "execute_result",
          "data": {
            "text/plain": [
              "Timestamp('2017-01-05 11:56:06')"
            ]
          },
          "metadata": {
            "tags": []
          },
          "execution_count": 41
        }
      ]
    },
    {
      "cell_type": "code",
      "metadata": {
        "id": "N6ArEbwytPga",
        "outputId": "7057ac8f-c779-4200-96ec-c710d8f4f316"
      },
      "source": [
        "last_date=dt.date(2018,8,30)\n",
        "print(last_date)"
      ],
      "execution_count": null,
      "outputs": [
        {
          "output_type": "stream",
          "text": [
            "2018-08-30\n"
          ],
          "name": "stdout"
        }
      ]
    },
    {
      "cell_type": "code",
      "metadata": {
        "id": "HYaC3cQztPgd"
      },
      "source": [
        "# creating a new column having date of purchase\n",
        "\n",
        "final_df['Date']=final_df['order_purchase_timestamp'].dt.date"
      ],
      "execution_count": null,
      "outputs": []
    },
    {
      "cell_type": "code",
      "metadata": {
        "id": "l4lvuhNUtPgg",
        "outputId": "7fabdf6b-1706-4ebb-b101-4a461033297d"
      },
      "source": [
        "# grouping customers based on last purchase date\n",
        "\n",
        "recency_df=final_df.groupby(by='customer_unique_id',as_index=False)['Date'].max()\n",
        "recency_df.columns=['Customer_unique_id','LastPurchaseDate']\n",
        "recency_df.head()"
      ],
      "execution_count": null,
      "outputs": [
        {
          "output_type": "execute_result",
          "data": {
            "text/html": [
              "<div>\n",
              "<style scoped>\n",
              "    .dataframe tbody tr th:only-of-type {\n",
              "        vertical-align: middle;\n",
              "    }\n",
              "\n",
              "    .dataframe tbody tr th {\n",
              "        vertical-align: top;\n",
              "    }\n",
              "\n",
              "    .dataframe thead th {\n",
              "        text-align: right;\n",
              "    }\n",
              "</style>\n",
              "<table border=\"1\" class=\"dataframe\">\n",
              "  <thead>\n",
              "    <tr style=\"text-align: right;\">\n",
              "      <th></th>\n",
              "      <th>Customer_unique_id</th>\n",
              "      <th>LastPurchaseDate</th>\n",
              "    </tr>\n",
              "  </thead>\n",
              "  <tbody>\n",
              "    <tr>\n",
              "      <th>0</th>\n",
              "      <td>0000366f3b9a7992bf8c76cfdf3221e2</td>\n",
              "      <td>2018-05-10</td>\n",
              "    </tr>\n",
              "    <tr>\n",
              "      <th>1</th>\n",
              "      <td>0000b849f77a49e4a4ce2b2a4ca5be3f</td>\n",
              "      <td>2018-05-07</td>\n",
              "    </tr>\n",
              "    <tr>\n",
              "      <th>2</th>\n",
              "      <td>0000f46a3911fa3c0805444483337064</td>\n",
              "      <td>2017-03-10</td>\n",
              "    </tr>\n",
              "    <tr>\n",
              "      <th>3</th>\n",
              "      <td>0000f6ccb0745a6a4b88665a16c9f078</td>\n",
              "      <td>2017-10-12</td>\n",
              "    </tr>\n",
              "    <tr>\n",
              "      <th>4</th>\n",
              "      <td>0004aac84e0df4da2b147fca70cf8255</td>\n",
              "      <td>2017-11-14</td>\n",
              "    </tr>\n",
              "  </tbody>\n",
              "</table>\n",
              "</div>"
            ],
            "text/plain": [
              "                 Customer_unique_id LastPurchaseDate\n",
              "0  0000366f3b9a7992bf8c76cfdf3221e2       2018-05-10\n",
              "1  0000b849f77a49e4a4ce2b2a4ca5be3f       2018-05-07\n",
              "2  0000f46a3911fa3c0805444483337064       2017-03-10\n",
              "3  0000f6ccb0745a6a4b88665a16c9f078       2017-10-12\n",
              "4  0004aac84e0df4da2b147fca70cf8255       2017-11-14"
            ]
          },
          "metadata": {
            "tags": []
          },
          "execution_count": 45
        }
      ]
    },
    {
      "cell_type": "code",
      "metadata": {
        "id": "NyCkv82VtPgj",
        "outputId": "2a011fa1-81aa-4a42-eee3-9862944210e7"
      },
      "source": [
        "# Recency calculation\n",
        "\n",
        "recency_df['Recency'] = recency_df['LastPurchaseDate'].apply(lambda x: (last_date - x).days)\n",
        "recency_df.head()"
      ],
      "execution_count": null,
      "outputs": [
        {
          "output_type": "execute_result",
          "data": {
            "text/html": [
              "<div>\n",
              "<style scoped>\n",
              "    .dataframe tbody tr th:only-of-type {\n",
              "        vertical-align: middle;\n",
              "    }\n",
              "\n",
              "    .dataframe tbody tr th {\n",
              "        vertical-align: top;\n",
              "    }\n",
              "\n",
              "    .dataframe thead th {\n",
              "        text-align: right;\n",
              "    }\n",
              "</style>\n",
              "<table border=\"1\" class=\"dataframe\">\n",
              "  <thead>\n",
              "    <tr style=\"text-align: right;\">\n",
              "      <th></th>\n",
              "      <th>Customer_unique_id</th>\n",
              "      <th>LastPurchaseDate</th>\n",
              "      <th>Recency</th>\n",
              "    </tr>\n",
              "  </thead>\n",
              "  <tbody>\n",
              "    <tr>\n",
              "      <th>0</th>\n",
              "      <td>0000366f3b9a7992bf8c76cfdf3221e2</td>\n",
              "      <td>2018-05-10</td>\n",
              "      <td>112</td>\n",
              "    </tr>\n",
              "    <tr>\n",
              "      <th>1</th>\n",
              "      <td>0000b849f77a49e4a4ce2b2a4ca5be3f</td>\n",
              "      <td>2018-05-07</td>\n",
              "      <td>115</td>\n",
              "    </tr>\n",
              "    <tr>\n",
              "      <th>2</th>\n",
              "      <td>0000f46a3911fa3c0805444483337064</td>\n",
              "      <td>2017-03-10</td>\n",
              "      <td>538</td>\n",
              "    </tr>\n",
              "    <tr>\n",
              "      <th>3</th>\n",
              "      <td>0000f6ccb0745a6a4b88665a16c9f078</td>\n",
              "      <td>2017-10-12</td>\n",
              "      <td>322</td>\n",
              "    </tr>\n",
              "    <tr>\n",
              "      <th>4</th>\n",
              "      <td>0004aac84e0df4da2b147fca70cf8255</td>\n",
              "      <td>2017-11-14</td>\n",
              "      <td>289</td>\n",
              "    </tr>\n",
              "  </tbody>\n",
              "</table>\n",
              "</div>"
            ],
            "text/plain": [
              "                 Customer_unique_id LastPurchaseDate  Recency\n",
              "0  0000366f3b9a7992bf8c76cfdf3221e2       2018-05-10      112\n",
              "1  0000b849f77a49e4a4ce2b2a4ca5be3f       2018-05-07      115\n",
              "2  0000f46a3911fa3c0805444483337064       2017-03-10      538\n",
              "3  0000f6ccb0745a6a4b88665a16c9f078       2017-10-12      322\n",
              "4  0004aac84e0df4da2b147fca70cf8255       2017-11-14      289"
            ]
          },
          "metadata": {
            "tags": []
          },
          "execution_count": 46
        }
      ]
    },
    {
      "cell_type": "code",
      "metadata": {
        "id": "ZdtHKj3atPgl"
      },
      "source": [
        "#dropping LastPurchaseDate from the dataframe since it is not required for further analysis\n",
        "\n",
        "recency_df.drop('LastPurchaseDate',axis=1,inplace=True)"
      ],
      "execution_count": null,
      "outputs": []
    },
    {
      "cell_type": "code",
      "metadata": {
        "id": "c3iSsDemtPgn",
        "outputId": "c0086152-774b-4c32-ac4b-ab5150e44302"
      },
      "source": [
        "recency_df.head()"
      ],
      "execution_count": null,
      "outputs": [
        {
          "output_type": "execute_result",
          "data": {
            "text/html": [
              "<div>\n",
              "<style scoped>\n",
              "    .dataframe tbody tr th:only-of-type {\n",
              "        vertical-align: middle;\n",
              "    }\n",
              "\n",
              "    .dataframe tbody tr th {\n",
              "        vertical-align: top;\n",
              "    }\n",
              "\n",
              "    .dataframe thead th {\n",
              "        text-align: right;\n",
              "    }\n",
              "</style>\n",
              "<table border=\"1\" class=\"dataframe\">\n",
              "  <thead>\n",
              "    <tr style=\"text-align: right;\">\n",
              "      <th></th>\n",
              "      <th>Customer_unique_id</th>\n",
              "      <th>Recency</th>\n",
              "    </tr>\n",
              "  </thead>\n",
              "  <tbody>\n",
              "    <tr>\n",
              "      <th>0</th>\n",
              "      <td>0000366f3b9a7992bf8c76cfdf3221e2</td>\n",
              "      <td>112</td>\n",
              "    </tr>\n",
              "    <tr>\n",
              "      <th>1</th>\n",
              "      <td>0000b849f77a49e4a4ce2b2a4ca5be3f</td>\n",
              "      <td>115</td>\n",
              "    </tr>\n",
              "    <tr>\n",
              "      <th>2</th>\n",
              "      <td>0000f46a3911fa3c0805444483337064</td>\n",
              "      <td>538</td>\n",
              "    </tr>\n",
              "    <tr>\n",
              "      <th>3</th>\n",
              "      <td>0000f6ccb0745a6a4b88665a16c9f078</td>\n",
              "      <td>322</td>\n",
              "    </tr>\n",
              "    <tr>\n",
              "      <th>4</th>\n",
              "      <td>0004aac84e0df4da2b147fca70cf8255</td>\n",
              "      <td>289</td>\n",
              "    </tr>\n",
              "  </tbody>\n",
              "</table>\n",
              "</div>"
            ],
            "text/plain": [
              "                 Customer_unique_id  Recency\n",
              "0  0000366f3b9a7992bf8c76cfdf3221e2      112\n",
              "1  0000b849f77a49e4a4ce2b2a4ca5be3f      115\n",
              "2  0000f46a3911fa3c0805444483337064      538\n",
              "3  0000f6ccb0745a6a4b88665a16c9f078      322\n",
              "4  0004aac84e0df4da2b147fca70cf8255      289"
            ]
          },
          "metadata": {
            "tags": []
          },
          "execution_count": 48
        }
      ]
    },
    {
      "cell_type": "code",
      "metadata": {
        "id": "wVSJh0DqtPgq",
        "outputId": "ca397782-149d-4c95-c0ea-06ca4a9bf317"
      },
      "source": [
        "recency_df['Customer_unique_id'].nunique()"
      ],
      "execution_count": null,
      "outputs": [
        {
          "output_type": "execute_result",
          "data": {
            "text/plain": [
              "93104"
            ]
          },
          "metadata": {
            "tags": []
          },
          "execution_count": 49
        }
      ]
    },
    {
      "cell_type": "code",
      "metadata": {
        "id": "8PKoRFDRtPgv",
        "outputId": "a4b03efd-3e2f-4c6a-a9fa-0fe91b7d2b18"
      },
      "source": [
        "recency_df.describe()"
      ],
      "execution_count": null,
      "outputs": [
        {
          "output_type": "execute_result",
          "data": {
            "text/html": [
              "<div>\n",
              "<style scoped>\n",
              "    .dataframe tbody tr th:only-of-type {\n",
              "        vertical-align: middle;\n",
              "    }\n",
              "\n",
              "    .dataframe tbody tr th {\n",
              "        vertical-align: top;\n",
              "    }\n",
              "\n",
              "    .dataframe thead th {\n",
              "        text-align: right;\n",
              "    }\n",
              "</style>\n",
              "<table border=\"1\" class=\"dataframe\">\n",
              "  <thead>\n",
              "    <tr style=\"text-align: right;\">\n",
              "      <th></th>\n",
              "      <th>Recency</th>\n",
              "    </tr>\n",
              "  </thead>\n",
              "  <tbody>\n",
              "    <tr>\n",
              "      <th>count</th>\n",
              "      <td>93104.000000</td>\n",
              "    </tr>\n",
              "    <tr>\n",
              "      <th>mean</th>\n",
              "      <td>237.240086</td>\n",
              "    </tr>\n",
              "    <tr>\n",
              "      <th>std</th>\n",
              "      <td>150.946046</td>\n",
              "    </tr>\n",
              "    <tr>\n",
              "      <th>min</th>\n",
              "      <td>1.000000</td>\n",
              "    </tr>\n",
              "    <tr>\n",
              "      <th>25%</th>\n",
              "      <td>115.000000</td>\n",
              "    </tr>\n",
              "    <tr>\n",
              "      <th>50%</th>\n",
              "      <td>219.000000</td>\n",
              "    </tr>\n",
              "    <tr>\n",
              "      <th>75%</th>\n",
              "      <td>346.000000</td>\n",
              "    </tr>\n",
              "    <tr>\n",
              "      <th>max</th>\n",
              "      <td>602.000000</td>\n",
              "    </tr>\n",
              "  </tbody>\n",
              "</table>\n",
              "</div>"
            ],
            "text/plain": [
              "            Recency\n",
              "count  93104.000000\n",
              "mean     237.240086\n",
              "std      150.946046\n",
              "min        1.000000\n",
              "25%      115.000000\n",
              "50%      219.000000\n",
              "75%      346.000000\n",
              "max      602.000000"
            ]
          },
          "metadata": {
            "tags": []
          },
          "execution_count": 50
        }
      ]
    },
    {
      "cell_type": "markdown",
      "metadata": {
        "id": "-thW_SaUtPgz"
      },
      "source": [
        "### Frequency Calculation"
      ]
    },
    {
      "cell_type": "code",
      "metadata": {
        "id": "MEi7fVf7tPg0"
      },
      "source": [
        "# frequency calculation using customer id and order id\n",
        "\n",
        "frequency_df = final_df.groupby(by=['customer_unique_id']).order_id.count().reset_index()\n",
        "frequency_df.columns = ['Customer_unique_id','Frequency']"
      ],
      "execution_count": null,
      "outputs": []
    },
    {
      "cell_type": "code",
      "metadata": {
        "id": "K8Q67LdRtPg5",
        "outputId": "cbd32be1-7561-4708-e36a-12c4c9061da3"
      },
      "source": [
        "frequency_df.head()"
      ],
      "execution_count": null,
      "outputs": [
        {
          "output_type": "execute_result",
          "data": {
            "text/html": [
              "<div>\n",
              "<style scoped>\n",
              "    .dataframe tbody tr th:only-of-type {\n",
              "        vertical-align: middle;\n",
              "    }\n",
              "\n",
              "    .dataframe tbody tr th {\n",
              "        vertical-align: top;\n",
              "    }\n",
              "\n",
              "    .dataframe thead th {\n",
              "        text-align: right;\n",
              "    }\n",
              "</style>\n",
              "<table border=\"1\" class=\"dataframe\">\n",
              "  <thead>\n",
              "    <tr style=\"text-align: right;\">\n",
              "      <th></th>\n",
              "      <th>Customer_unique_id</th>\n",
              "      <th>Frequency</th>\n",
              "    </tr>\n",
              "  </thead>\n",
              "  <tbody>\n",
              "    <tr>\n",
              "      <th>0</th>\n",
              "      <td>0000366f3b9a7992bf8c76cfdf3221e2</td>\n",
              "      <td>1</td>\n",
              "    </tr>\n",
              "    <tr>\n",
              "      <th>1</th>\n",
              "      <td>0000b849f77a49e4a4ce2b2a4ca5be3f</td>\n",
              "      <td>1</td>\n",
              "    </tr>\n",
              "    <tr>\n",
              "      <th>2</th>\n",
              "      <td>0000f46a3911fa3c0805444483337064</td>\n",
              "      <td>1</td>\n",
              "    </tr>\n",
              "    <tr>\n",
              "      <th>3</th>\n",
              "      <td>0000f6ccb0745a6a4b88665a16c9f078</td>\n",
              "      <td>1</td>\n",
              "    </tr>\n",
              "    <tr>\n",
              "      <th>4</th>\n",
              "      <td>0004aac84e0df4da2b147fca70cf8255</td>\n",
              "      <td>1</td>\n",
              "    </tr>\n",
              "  </tbody>\n",
              "</table>\n",
              "</div>"
            ],
            "text/plain": [
              "                 Customer_unique_id  Frequency\n",
              "0  0000366f3b9a7992bf8c76cfdf3221e2          1\n",
              "1  0000b849f77a49e4a4ce2b2a4ca5be3f          1\n",
              "2  0000f46a3911fa3c0805444483337064          1\n",
              "3  0000f6ccb0745a6a4b88665a16c9f078          1\n",
              "4  0004aac84e0df4da2b147fca70cf8255          1"
            ]
          },
          "metadata": {
            "tags": []
          },
          "execution_count": 52
        }
      ]
    },
    {
      "cell_type": "code",
      "metadata": {
        "id": "Q6rM7--7tPg9",
        "outputId": "fed09766-31ac-480a-a569-51d9d3874231"
      },
      "source": [
        "frequency_df['Customer_unique_id'].nunique()"
      ],
      "execution_count": null,
      "outputs": [
        {
          "output_type": "execute_result",
          "data": {
            "text/plain": [
              "93104"
            ]
          },
          "metadata": {
            "tags": []
          },
          "execution_count": 53
        }
      ]
    },
    {
      "cell_type": "code",
      "metadata": {
        "id": "CuLzmOFHtPhE",
        "outputId": "99e96430-475f-47d7-9efc-32a28412f544"
      },
      "source": [
        "frequency_df.describe()"
      ],
      "execution_count": null,
      "outputs": [
        {
          "output_type": "execute_result",
          "data": {
            "text/html": [
              "<div>\n",
              "<style scoped>\n",
              "    .dataframe tbody tr th:only-of-type {\n",
              "        vertical-align: middle;\n",
              "    }\n",
              "\n",
              "    .dataframe tbody tr th {\n",
              "        vertical-align: top;\n",
              "    }\n",
              "\n",
              "    .dataframe thead th {\n",
              "        text-align: right;\n",
              "    }\n",
              "</style>\n",
              "<table border=\"1\" class=\"dataframe\">\n",
              "  <thead>\n",
              "    <tr style=\"text-align: right;\">\n",
              "      <th></th>\n",
              "      <th>Frequency</th>\n",
              "    </tr>\n",
              "  </thead>\n",
              "  <tbody>\n",
              "    <tr>\n",
              "      <th>count</th>\n",
              "      <td>93104.000000</td>\n",
              "    </tr>\n",
              "    <tr>\n",
              "      <th>mean</th>\n",
              "      <td>1.033371</td>\n",
              "    </tr>\n",
              "    <tr>\n",
              "      <th>std</th>\n",
              "      <td>0.209012</td>\n",
              "    </tr>\n",
              "    <tr>\n",
              "      <th>min</th>\n",
              "      <td>1.000000</td>\n",
              "    </tr>\n",
              "    <tr>\n",
              "      <th>25%</th>\n",
              "      <td>1.000000</td>\n",
              "    </tr>\n",
              "    <tr>\n",
              "      <th>50%</th>\n",
              "      <td>1.000000</td>\n",
              "    </tr>\n",
              "    <tr>\n",
              "      <th>75%</th>\n",
              "      <td>1.000000</td>\n",
              "    </tr>\n",
              "    <tr>\n",
              "      <th>max</th>\n",
              "      <td>15.000000</td>\n",
              "    </tr>\n",
              "  </tbody>\n",
              "</table>\n",
              "</div>"
            ],
            "text/plain": [
              "          Frequency\n",
              "count  93104.000000\n",
              "mean       1.033371\n",
              "std        0.209012\n",
              "min        1.000000\n",
              "25%        1.000000\n",
              "50%        1.000000\n",
              "75%        1.000000\n",
              "max       15.000000"
            ]
          },
          "metadata": {
            "tags": []
          },
          "execution_count": 54
        }
      ]
    },
    {
      "cell_type": "code",
      "metadata": {
        "id": "KMU2CRVGtPhJ",
        "outputId": "7fce7936-7a64-420e-eb3c-6aa8ed2ee4ec"
      },
      "source": [
        "frequency_df['Frequency'].value_counts()"
      ],
      "execution_count": null,
      "outputs": [
        {
          "output_type": "execute_result",
          "data": {
            "text/plain": [
              "1     90315\n",
              "2      2562\n",
              "3       180\n",
              "4        28\n",
              "5         9\n",
              "6         5\n",
              "7         3\n",
              "15        1\n",
              "9         1\n",
              "Name: Frequency, dtype: int64"
            ]
          },
          "metadata": {
            "tags": []
          },
          "execution_count": 55
        }
      ]
    },
    {
      "cell_type": "markdown",
      "metadata": {
        "id": "6miHj9jttPhP"
      },
      "source": [
        "### Monetary Calculation"
      ]
    },
    {
      "cell_type": "code",
      "metadata": {
        "id": "ZsiZ4rIHtPhR"
      },
      "source": [
        "# monetary calculation using customer id and payment value\n",
        "\n",
        "monetary_df = final_df.groupby('customer_unique_id').payment_value.sum().reset_index()\n",
        "monetary_df.columns = ['Customer_unique_id','Monetary']"
      ],
      "execution_count": null,
      "outputs": []
    },
    {
      "cell_type": "code",
      "metadata": {
        "id": "aZjZizvJtPhZ",
        "outputId": "f6673f4d-90fe-428a-efa1-58a66f9512d5"
      },
      "source": [
        "monetary_df.head()"
      ],
      "execution_count": null,
      "outputs": [
        {
          "output_type": "execute_result",
          "data": {
            "text/html": [
              "<div>\n",
              "<style scoped>\n",
              "    .dataframe tbody tr th:only-of-type {\n",
              "        vertical-align: middle;\n",
              "    }\n",
              "\n",
              "    .dataframe tbody tr th {\n",
              "        vertical-align: top;\n",
              "    }\n",
              "\n",
              "    .dataframe thead th {\n",
              "        text-align: right;\n",
              "    }\n",
              "</style>\n",
              "<table border=\"1\" class=\"dataframe\">\n",
              "  <thead>\n",
              "    <tr style=\"text-align: right;\">\n",
              "      <th></th>\n",
              "      <th>Customer_unique_id</th>\n",
              "      <th>Monetary</th>\n",
              "    </tr>\n",
              "  </thead>\n",
              "  <tbody>\n",
              "    <tr>\n",
              "      <th>0</th>\n",
              "      <td>0000366f3b9a7992bf8c76cfdf3221e2</td>\n",
              "      <td>141.90</td>\n",
              "    </tr>\n",
              "    <tr>\n",
              "      <th>1</th>\n",
              "      <td>0000b849f77a49e4a4ce2b2a4ca5be3f</td>\n",
              "      <td>27.19</td>\n",
              "    </tr>\n",
              "    <tr>\n",
              "      <th>2</th>\n",
              "      <td>0000f46a3911fa3c0805444483337064</td>\n",
              "      <td>86.22</td>\n",
              "    </tr>\n",
              "    <tr>\n",
              "      <th>3</th>\n",
              "      <td>0000f6ccb0745a6a4b88665a16c9f078</td>\n",
              "      <td>43.62</td>\n",
              "    </tr>\n",
              "    <tr>\n",
              "      <th>4</th>\n",
              "      <td>0004aac84e0df4da2b147fca70cf8255</td>\n",
              "      <td>196.89</td>\n",
              "    </tr>\n",
              "  </tbody>\n",
              "</table>\n",
              "</div>"
            ],
            "text/plain": [
              "                 Customer_unique_id  Monetary\n",
              "0  0000366f3b9a7992bf8c76cfdf3221e2    141.90\n",
              "1  0000b849f77a49e4a4ce2b2a4ca5be3f     27.19\n",
              "2  0000f46a3911fa3c0805444483337064     86.22\n",
              "3  0000f6ccb0745a6a4b88665a16c9f078     43.62\n",
              "4  0004aac84e0df4da2b147fca70cf8255    196.89"
            ]
          },
          "metadata": {
            "tags": []
          },
          "execution_count": 57
        }
      ]
    },
    {
      "cell_type": "code",
      "metadata": {
        "id": "F5OVKaKftPhe",
        "outputId": "fedc08b1-a528-4981-ef0a-22af75beeba5"
      },
      "source": [
        "monetary_df.describe()"
      ],
      "execution_count": null,
      "outputs": [
        {
          "output_type": "execute_result",
          "data": {
            "text/html": [
              "<div>\n",
              "<style scoped>\n",
              "    .dataframe tbody tr th:only-of-type {\n",
              "        vertical-align: middle;\n",
              "    }\n",
              "\n",
              "    .dataframe tbody tr th {\n",
              "        vertical-align: top;\n",
              "    }\n",
              "\n",
              "    .dataframe thead th {\n",
              "        text-align: right;\n",
              "    }\n",
              "</style>\n",
              "<table border=\"1\" class=\"dataframe\">\n",
              "  <thead>\n",
              "    <tr style=\"text-align: right;\">\n",
              "      <th></th>\n",
              "      <th>Monetary</th>\n",
              "    </tr>\n",
              "  </thead>\n",
              "  <tbody>\n",
              "    <tr>\n",
              "      <th>count</th>\n",
              "      <td>93104.000000</td>\n",
              "    </tr>\n",
              "    <tr>\n",
              "      <th>mean</th>\n",
              "      <td>165.147313</td>\n",
              "    </tr>\n",
              "    <tr>\n",
              "      <th>std</th>\n",
              "      <td>226.381578</td>\n",
              "    </tr>\n",
              "    <tr>\n",
              "      <th>min</th>\n",
              "      <td>9.590000</td>\n",
              "    </tr>\n",
              "    <tr>\n",
              "      <th>25%</th>\n",
              "      <td>63.040000</td>\n",
              "    </tr>\n",
              "    <tr>\n",
              "      <th>50%</th>\n",
              "      <td>107.780000</td>\n",
              "    </tr>\n",
              "    <tr>\n",
              "      <th>75%</th>\n",
              "      <td>182.495000</td>\n",
              "    </tr>\n",
              "    <tr>\n",
              "      <th>max</th>\n",
              "      <td>13664.080000</td>\n",
              "    </tr>\n",
              "  </tbody>\n",
              "</table>\n",
              "</div>"
            ],
            "text/plain": [
              "           Monetary\n",
              "count  93104.000000\n",
              "mean     165.147313\n",
              "std      226.381578\n",
              "min        9.590000\n",
              "25%       63.040000\n",
              "50%      107.780000\n",
              "75%      182.495000\n",
              "max    13664.080000"
            ]
          },
          "metadata": {
            "tags": []
          },
          "execution_count": 58
        }
      ]
    },
    {
      "cell_type": "markdown",
      "metadata": {
        "id": "UY5DUX8vtPhi"
      },
      "source": [
        "### RFM Table"
      ]
    },
    {
      "cell_type": "code",
      "metadata": {
        "id": "s-O_XOcztPhj",
        "outputId": "861ba89d-3060-46ea-dcd8-22e0c26acfdd"
      },
      "source": [
        "# creating RFM table from the identified values\n",
        "# merging recency and frequency dataframe\n",
        "\n",
        "rf_df=recency_df.merge(frequency_df,on='Customer_unique_id')\n",
        "rf_df.head()"
      ],
      "execution_count": null,
      "outputs": [
        {
          "output_type": "execute_result",
          "data": {
            "text/html": [
              "<div>\n",
              "<style scoped>\n",
              "    .dataframe tbody tr th:only-of-type {\n",
              "        vertical-align: middle;\n",
              "    }\n",
              "\n",
              "    .dataframe tbody tr th {\n",
              "        vertical-align: top;\n",
              "    }\n",
              "\n",
              "    .dataframe thead th {\n",
              "        text-align: right;\n",
              "    }\n",
              "</style>\n",
              "<table border=\"1\" class=\"dataframe\">\n",
              "  <thead>\n",
              "    <tr style=\"text-align: right;\">\n",
              "      <th></th>\n",
              "      <th>Customer_unique_id</th>\n",
              "      <th>Recency</th>\n",
              "      <th>Frequency</th>\n",
              "    </tr>\n",
              "  </thead>\n",
              "  <tbody>\n",
              "    <tr>\n",
              "      <th>0</th>\n",
              "      <td>0000366f3b9a7992bf8c76cfdf3221e2</td>\n",
              "      <td>112</td>\n",
              "      <td>1</td>\n",
              "    </tr>\n",
              "    <tr>\n",
              "      <th>1</th>\n",
              "      <td>0000b849f77a49e4a4ce2b2a4ca5be3f</td>\n",
              "      <td>115</td>\n",
              "      <td>1</td>\n",
              "    </tr>\n",
              "    <tr>\n",
              "      <th>2</th>\n",
              "      <td>0000f46a3911fa3c0805444483337064</td>\n",
              "      <td>538</td>\n",
              "      <td>1</td>\n",
              "    </tr>\n",
              "    <tr>\n",
              "      <th>3</th>\n",
              "      <td>0000f6ccb0745a6a4b88665a16c9f078</td>\n",
              "      <td>322</td>\n",
              "      <td>1</td>\n",
              "    </tr>\n",
              "    <tr>\n",
              "      <th>4</th>\n",
              "      <td>0004aac84e0df4da2b147fca70cf8255</td>\n",
              "      <td>289</td>\n",
              "      <td>1</td>\n",
              "    </tr>\n",
              "  </tbody>\n",
              "</table>\n",
              "</div>"
            ],
            "text/plain": [
              "                 Customer_unique_id  Recency  Frequency\n",
              "0  0000366f3b9a7992bf8c76cfdf3221e2      112          1\n",
              "1  0000b849f77a49e4a4ce2b2a4ca5be3f      115          1\n",
              "2  0000f46a3911fa3c0805444483337064      538          1\n",
              "3  0000f6ccb0745a6a4b88665a16c9f078      322          1\n",
              "4  0004aac84e0df4da2b147fca70cf8255      289          1"
            ]
          },
          "metadata": {
            "tags": []
          },
          "execution_count": 59
        }
      ]
    },
    {
      "cell_type": "code",
      "metadata": {
        "id": "DY6JokNDtPhn",
        "outputId": "cea58cbc-6651-46c1-d0eb-9abe1ae1cd80"
      },
      "source": [
        "# merging the rf dataframe with monetary dataframe\n",
        "\n",
        "rfm_df=rf_df.merge(monetary_df,on='Customer_unique_id')\n",
        "rfm_df.head()"
      ],
      "execution_count": null,
      "outputs": [
        {
          "output_type": "execute_result",
          "data": {
            "text/html": [
              "<div>\n",
              "<style scoped>\n",
              "    .dataframe tbody tr th:only-of-type {\n",
              "        vertical-align: middle;\n",
              "    }\n",
              "\n",
              "    .dataframe tbody tr th {\n",
              "        vertical-align: top;\n",
              "    }\n",
              "\n",
              "    .dataframe thead th {\n",
              "        text-align: right;\n",
              "    }\n",
              "</style>\n",
              "<table border=\"1\" class=\"dataframe\">\n",
              "  <thead>\n",
              "    <tr style=\"text-align: right;\">\n",
              "      <th></th>\n",
              "      <th>Customer_unique_id</th>\n",
              "      <th>Recency</th>\n",
              "      <th>Frequency</th>\n",
              "      <th>Monetary</th>\n",
              "    </tr>\n",
              "  </thead>\n",
              "  <tbody>\n",
              "    <tr>\n",
              "      <th>0</th>\n",
              "      <td>0000366f3b9a7992bf8c76cfdf3221e2</td>\n",
              "      <td>112</td>\n",
              "      <td>1</td>\n",
              "      <td>141.90</td>\n",
              "    </tr>\n",
              "    <tr>\n",
              "      <th>1</th>\n",
              "      <td>0000b849f77a49e4a4ce2b2a4ca5be3f</td>\n",
              "      <td>115</td>\n",
              "      <td>1</td>\n",
              "      <td>27.19</td>\n",
              "    </tr>\n",
              "    <tr>\n",
              "      <th>2</th>\n",
              "      <td>0000f46a3911fa3c0805444483337064</td>\n",
              "      <td>538</td>\n",
              "      <td>1</td>\n",
              "      <td>86.22</td>\n",
              "    </tr>\n",
              "    <tr>\n",
              "      <th>3</th>\n",
              "      <td>0000f6ccb0745a6a4b88665a16c9f078</td>\n",
              "      <td>322</td>\n",
              "      <td>1</td>\n",
              "      <td>43.62</td>\n",
              "    </tr>\n",
              "    <tr>\n",
              "      <th>4</th>\n",
              "      <td>0004aac84e0df4da2b147fca70cf8255</td>\n",
              "      <td>289</td>\n",
              "      <td>1</td>\n",
              "      <td>196.89</td>\n",
              "    </tr>\n",
              "  </tbody>\n",
              "</table>\n",
              "</div>"
            ],
            "text/plain": [
              "                 Customer_unique_id  Recency  Frequency  Monetary\n",
              "0  0000366f3b9a7992bf8c76cfdf3221e2      112          1    141.90\n",
              "1  0000b849f77a49e4a4ce2b2a4ca5be3f      115          1     27.19\n",
              "2  0000f46a3911fa3c0805444483337064      538          1     86.22\n",
              "3  0000f6ccb0745a6a4b88665a16c9f078      322          1     43.62\n",
              "4  0004aac84e0df4da2b147fca70cf8255      289          1    196.89"
            ]
          },
          "metadata": {
            "tags": []
          },
          "execution_count": 60
        }
      ]
    },
    {
      "cell_type": "code",
      "metadata": {
        "id": "8BiG4B7wtPhp",
        "outputId": "41908ea5-3706-480e-f7c0-c6038f4f347f"
      },
      "source": [
        "# converting customer_unique_id as index\n",
        "\n",
        "rfm_df.set_index('Customer_unique_id',inplace=True)\n",
        "rfm_df.head()"
      ],
      "execution_count": null,
      "outputs": [
        {
          "output_type": "execute_result",
          "data": {
            "text/html": [
              "<div>\n",
              "<style scoped>\n",
              "    .dataframe tbody tr th:only-of-type {\n",
              "        vertical-align: middle;\n",
              "    }\n",
              "\n",
              "    .dataframe tbody tr th {\n",
              "        vertical-align: top;\n",
              "    }\n",
              "\n",
              "    .dataframe thead th {\n",
              "        text-align: right;\n",
              "    }\n",
              "</style>\n",
              "<table border=\"1\" class=\"dataframe\">\n",
              "  <thead>\n",
              "    <tr style=\"text-align: right;\">\n",
              "      <th></th>\n",
              "      <th>Recency</th>\n",
              "      <th>Frequency</th>\n",
              "      <th>Monetary</th>\n",
              "    </tr>\n",
              "    <tr>\n",
              "      <th>Customer_unique_id</th>\n",
              "      <th></th>\n",
              "      <th></th>\n",
              "      <th></th>\n",
              "    </tr>\n",
              "  </thead>\n",
              "  <tbody>\n",
              "    <tr>\n",
              "      <th>0000366f3b9a7992bf8c76cfdf3221e2</th>\n",
              "      <td>112</td>\n",
              "      <td>1</td>\n",
              "      <td>141.90</td>\n",
              "    </tr>\n",
              "    <tr>\n",
              "      <th>0000b849f77a49e4a4ce2b2a4ca5be3f</th>\n",
              "      <td>115</td>\n",
              "      <td>1</td>\n",
              "      <td>27.19</td>\n",
              "    </tr>\n",
              "    <tr>\n",
              "      <th>0000f46a3911fa3c0805444483337064</th>\n",
              "      <td>538</td>\n",
              "      <td>1</td>\n",
              "      <td>86.22</td>\n",
              "    </tr>\n",
              "    <tr>\n",
              "      <th>0000f6ccb0745a6a4b88665a16c9f078</th>\n",
              "      <td>322</td>\n",
              "      <td>1</td>\n",
              "      <td>43.62</td>\n",
              "    </tr>\n",
              "    <tr>\n",
              "      <th>0004aac84e0df4da2b147fca70cf8255</th>\n",
              "      <td>289</td>\n",
              "      <td>1</td>\n",
              "      <td>196.89</td>\n",
              "    </tr>\n",
              "  </tbody>\n",
              "</table>\n",
              "</div>"
            ],
            "text/plain": [
              "                                  Recency  Frequency  Monetary\n",
              "Customer_unique_id                                            \n",
              "0000366f3b9a7992bf8c76cfdf3221e2      112          1    141.90\n",
              "0000b849f77a49e4a4ce2b2a4ca5be3f      115          1     27.19\n",
              "0000f46a3911fa3c0805444483337064      538          1     86.22\n",
              "0000f6ccb0745a6a4b88665a16c9f078      322          1     43.62\n",
              "0004aac84e0df4da2b147fca70cf8255      289          1    196.89"
            ]
          },
          "metadata": {
            "tags": []
          },
          "execution_count": 61
        }
      ]
    },
    {
      "cell_type": "code",
      "metadata": {
        "id": "tyQ_2tjqtPhs",
        "outputId": "148688e2-1940-439d-fc44-fb1bb8ca16ee"
      },
      "source": [
        "# verifying RFM table\n",
        "\n",
        "final_df[final_df['customer_unique_id']=='0000366f3b9a7992bf8c76cfdf3221e2']"
      ],
      "execution_count": null,
      "outputs": [
        {
          "output_type": "execute_result",
          "data": {
            "text/html": [
              "<div>\n",
              "<style scoped>\n",
              "    .dataframe tbody tr th:only-of-type {\n",
              "        vertical-align: middle;\n",
              "    }\n",
              "\n",
              "    .dataframe tbody tr th {\n",
              "        vertical-align: top;\n",
              "    }\n",
              "\n",
              "    .dataframe thead th {\n",
              "        text-align: right;\n",
              "    }\n",
              "</style>\n",
              "<table border=\"1\" class=\"dataframe\">\n",
              "  <thead>\n",
              "    <tr style=\"text-align: right;\">\n",
              "      <th></th>\n",
              "      <th>customer_unique_id</th>\n",
              "      <th>customer_city</th>\n",
              "      <th>customer_state</th>\n",
              "      <th>order_id</th>\n",
              "      <th>order_status</th>\n",
              "      <th>order_purchase_timestamp</th>\n",
              "      <th>order_estimated_delivery_date</th>\n",
              "      <th>order_item_id</th>\n",
              "      <th>payment_value</th>\n",
              "      <th>delivery_against_estimated</th>\n",
              "      <th>order_purchase_year</th>\n",
              "      <th>order_purchase_month</th>\n",
              "      <th>order_purchase_dayofweek</th>\n",
              "      <th>order_purchase_hour</th>\n",
              "      <th>order_purchase_day</th>\n",
              "      <th>order_purchase_mon</th>\n",
              "      <th>month_year</th>\n",
              "      <th>Date</th>\n",
              "    </tr>\n",
              "  </thead>\n",
              "  <tbody>\n",
              "    <tr>\n",
              "      <th>63518</th>\n",
              "      <td>0000366f3b9a7992bf8c76cfdf3221e2</td>\n",
              "      <td>cajamar</td>\n",
              "      <td>SP</td>\n",
              "      <td>e22acc9c116caa3f2b7121bbb380d08e</td>\n",
              "      <td>delivered</td>\n",
              "      <td>2018-05-10 10:56:27</td>\n",
              "      <td>2018-05-21</td>\n",
              "      <td>1</td>\n",
              "      <td>141.9</td>\n",
              "      <td>4.0</td>\n",
              "      <td>2018</td>\n",
              "      <td>5</td>\n",
              "      <td>3</td>\n",
              "      <td>10</td>\n",
              "      <td>Thu</td>\n",
              "      <td>May</td>\n",
              "      <td>2018-05</td>\n",
              "      <td>2018-05-10</td>\n",
              "    </tr>\n",
              "  </tbody>\n",
              "</table>\n",
              "</div>"
            ],
            "text/plain": [
              "                     customer_unique_id customer_city customer_state  \\\n",
              "63518  0000366f3b9a7992bf8c76cfdf3221e2       cajamar             SP   \n",
              "\n",
              "                               order_id order_status order_purchase_timestamp  \\\n",
              "63518  e22acc9c116caa3f2b7121bbb380d08e    delivered      2018-05-10 10:56:27   \n",
              "\n",
              "      order_estimated_delivery_date  order_item_id  payment_value  \\\n",
              "63518                    2018-05-21              1          141.9   \n",
              "\n",
              "       delivery_against_estimated  order_purchase_year  order_purchase_month  \\\n",
              "63518                         4.0                 2018                     5   \n",
              "\n",
              "       order_purchase_dayofweek  order_purchase_hour order_purchase_day  \\\n",
              "63518                         3                   10                Thu   \n",
              "\n",
              "      order_purchase_mon month_year        Date  \n",
              "63518                May    2018-05  2018-05-10  "
            ]
          },
          "metadata": {
            "tags": []
          },
          "execution_count": 62
        }
      ]
    },
    {
      "cell_type": "code",
      "metadata": {
        "id": "9l3Mvb-ItPhu",
        "outputId": "c4d82506-b8fa-4ffb-a424-0ffab1c40069"
      },
      "source": [
        "(last_date - dt.date(2018,5,10)).days == 112"
      ],
      "execution_count": null,
      "outputs": [
        {
          "output_type": "execute_result",
          "data": {
            "text/plain": [
              "True"
            ]
          },
          "metadata": {
            "tags": []
          },
          "execution_count": 63
        }
      ]
    },
    {
      "cell_type": "markdown",
      "metadata": {
        "id": "y7wxDTgItPhx"
      },
      "source": [
        "As we can see our RFM table is correct. The first customer bought only once and before 112 days"
      ]
    },
    {
      "cell_type": "markdown",
      "metadata": {
        "id": "LAIktSj4tPhy"
      },
      "source": [
        "# Customer Segmentation with RFM values"
      ]
    },
    {
      "cell_type": "markdown",
      "metadata": {
        "id": "F9jWZI5stPhy"
      },
      "source": [
        "### Applying RFM Score formula"
      ]
    },
    {
      "cell_type": "markdown",
      "metadata": {
        "id": "8p5zWR0wtPhz"
      },
      "source": [
        "The simplest and effective way is to create customers segments from RFM Model by using Quartiles.  We assign a score from 1 to 5 to Recency, Frequency and Monetary. Five is the best/highest value, and one is the lowest/worst value. A final RFM score is calculated by combining individual RFM score numbers."
      ]
    },
    {
      "cell_type": "markdown",
      "metadata": {
        "id": "0nbFLnsxtPhz"
      },
      "source": [
        "### RFM Quartiles"
      ]
    },
    {
      "cell_type": "code",
      "metadata": {
        "id": "ta1NAP6QtPhz",
        "outputId": "c315c82c-616e-49cb-a59a-ad1c80a70fbe"
      },
      "source": [
        "quantiles = rfm_df.quantile(q=[0.25,0.5,0.75])\n",
        "quantiles"
      ],
      "execution_count": null,
      "outputs": [
        {
          "output_type": "execute_result",
          "data": {
            "text/html": [
              "<div>\n",
              "<style scoped>\n",
              "    .dataframe tbody tr th:only-of-type {\n",
              "        vertical-align: middle;\n",
              "    }\n",
              "\n",
              "    .dataframe tbody tr th {\n",
              "        vertical-align: top;\n",
              "    }\n",
              "\n",
              "    .dataframe thead th {\n",
              "        text-align: right;\n",
              "    }\n",
              "</style>\n",
              "<table border=\"1\" class=\"dataframe\">\n",
              "  <thead>\n",
              "    <tr style=\"text-align: right;\">\n",
              "      <th></th>\n",
              "      <th>Recency</th>\n",
              "      <th>Frequency</th>\n",
              "      <th>Monetary</th>\n",
              "    </tr>\n",
              "  </thead>\n",
              "  <tbody>\n",
              "    <tr>\n",
              "      <th>0.25</th>\n",
              "      <td>115.0</td>\n",
              "      <td>1.0</td>\n",
              "      <td>63.040</td>\n",
              "    </tr>\n",
              "    <tr>\n",
              "      <th>0.50</th>\n",
              "      <td>219.0</td>\n",
              "      <td>1.0</td>\n",
              "      <td>107.780</td>\n",
              "    </tr>\n",
              "    <tr>\n",
              "      <th>0.75</th>\n",
              "      <td>346.0</td>\n",
              "      <td>1.0</td>\n",
              "      <td>182.495</td>\n",
              "    </tr>\n",
              "  </tbody>\n",
              "</table>\n",
              "</div>"
            ],
            "text/plain": [
              "      Recency  Frequency  Monetary\n",
              "0.25    115.0        1.0    63.040\n",
              "0.50    219.0        1.0   107.780\n",
              "0.75    346.0        1.0   182.495"
            ]
          },
          "metadata": {
            "tags": []
          },
          "execution_count": 64
        }
      ]
    },
    {
      "cell_type": "code",
      "metadata": {
        "id": "6I6vFi0GtPh3",
        "outputId": "2614460c-165c-4ca4-e3bd-2f36a4027ece"
      },
      "source": [
        "quantiles.to_dict()"
      ],
      "execution_count": null,
      "outputs": [
        {
          "output_type": "execute_result",
          "data": {
            "text/plain": [
              "{'Recency': {0.25: 115.0, 0.5: 219.0, 0.75: 346.0},\n",
              " 'Frequency': {0.25: 1.0, 0.5: 1.0, 0.75: 1.0},\n",
              " 'Monetary': {0.25: 63.04, 0.5: 107.78, 0.75: 182.495}}"
            ]
          },
          "metadata": {
            "tags": []
          },
          "execution_count": 65
        }
      ]
    },
    {
      "cell_type": "markdown",
      "metadata": {
        "id": "cVKqEm7ktPiA"
      },
      "source": [
        "### Creation of RFM Segmentation table"
      ]
    },
    {
      "cell_type": "markdown",
      "metadata": {
        "id": "O96FZtMatPiB"
      },
      "source": [
        "Two segmentation of classes will be created since high recency is bad for business while high frequency and monetary value is good."
      ]
    },
    {
      "cell_type": "code",
      "metadata": {
        "id": "ZaBzza_6tPiC"
      },
      "source": [
        "# Arguments (x = value, p = recency, monetary_value, frequency, d = quartiles dict)\n",
        "\n",
        "def RScore(x,p,d):\n",
        "    if x <= d[p][0.25]:\n",
        "        return 4\n",
        "    elif x <= d[p][0.50]: \n",
        "        return 3\n",
        "    elif x <= d[p][0.75]:\n",
        "        return 2\n",
        "    else:\n",
        "        return 1\n",
        "    \n",
        "# Arguments (x = value, p = recency, monetary_value, frequency, k = quartiles dict)\n",
        "\n",
        "def FMScore(x,p,d):\n",
        "    if x <= d[p][0.25]:\n",
        "        return 1\n",
        "    elif x <= d[p][0.50]:\n",
        "        return 2\n",
        "    elif x <= d[p][0.75]: \n",
        "        return 3\n",
        "    else:\n",
        "        return 4"
      ],
      "execution_count": null,
      "outputs": []
    },
    {
      "cell_type": "code",
      "metadata": {
        "id": "2hq9giwvtPiF"
      },
      "source": [
        "# creating rfm segmentation table with the calculated rfm scores\n",
        "\n",
        "rfm_segmentation = rfm_df\n",
        "rfm_segmentation['R_Quartile'] = rfm_segmentation['Recency'].apply(RScore, args=('Recency',quantiles))\n",
        "rfm_segmentation['F_Quartile'] = rfm_segmentation['Frequency'].apply(FMScore, args=('Frequency',quantiles))\n",
        "rfm_segmentation['M_Quartile'] = rfm_segmentation['Monetary'].apply(FMScore, args=('Monetary',quantiles))"
      ],
      "execution_count": null,
      "outputs": []
    },
    {
      "cell_type": "code",
      "metadata": {
        "id": "JD6_kVDxtPiI",
        "outputId": "1fd38df1-8cda-4c05-b23e-893f8642557d"
      },
      "source": [
        "rfm_segmentation.head()"
      ],
      "execution_count": null,
      "outputs": [
        {
          "output_type": "execute_result",
          "data": {
            "text/html": [
              "<div>\n",
              "<style scoped>\n",
              "    .dataframe tbody tr th:only-of-type {\n",
              "        vertical-align: middle;\n",
              "    }\n",
              "\n",
              "    .dataframe tbody tr th {\n",
              "        vertical-align: top;\n",
              "    }\n",
              "\n",
              "    .dataframe thead th {\n",
              "        text-align: right;\n",
              "    }\n",
              "</style>\n",
              "<table border=\"1\" class=\"dataframe\">\n",
              "  <thead>\n",
              "    <tr style=\"text-align: right;\">\n",
              "      <th></th>\n",
              "      <th>Recency</th>\n",
              "      <th>Frequency</th>\n",
              "      <th>Monetary</th>\n",
              "      <th>R_Quartile</th>\n",
              "      <th>F_Quartile</th>\n",
              "      <th>M_Quartile</th>\n",
              "    </tr>\n",
              "    <tr>\n",
              "      <th>Customer_unique_id</th>\n",
              "      <th></th>\n",
              "      <th></th>\n",
              "      <th></th>\n",
              "      <th></th>\n",
              "      <th></th>\n",
              "      <th></th>\n",
              "    </tr>\n",
              "  </thead>\n",
              "  <tbody>\n",
              "    <tr>\n",
              "      <th>0000366f3b9a7992bf8c76cfdf3221e2</th>\n",
              "      <td>112</td>\n",
              "      <td>1</td>\n",
              "      <td>141.90</td>\n",
              "      <td>4</td>\n",
              "      <td>1</td>\n",
              "      <td>3</td>\n",
              "    </tr>\n",
              "    <tr>\n",
              "      <th>0000b849f77a49e4a4ce2b2a4ca5be3f</th>\n",
              "      <td>115</td>\n",
              "      <td>1</td>\n",
              "      <td>27.19</td>\n",
              "      <td>4</td>\n",
              "      <td>1</td>\n",
              "      <td>1</td>\n",
              "    </tr>\n",
              "    <tr>\n",
              "      <th>0000f46a3911fa3c0805444483337064</th>\n",
              "      <td>538</td>\n",
              "      <td>1</td>\n",
              "      <td>86.22</td>\n",
              "      <td>1</td>\n",
              "      <td>1</td>\n",
              "      <td>2</td>\n",
              "    </tr>\n",
              "    <tr>\n",
              "      <th>0000f6ccb0745a6a4b88665a16c9f078</th>\n",
              "      <td>322</td>\n",
              "      <td>1</td>\n",
              "      <td>43.62</td>\n",
              "      <td>2</td>\n",
              "      <td>1</td>\n",
              "      <td>1</td>\n",
              "    </tr>\n",
              "    <tr>\n",
              "      <th>0004aac84e0df4da2b147fca70cf8255</th>\n",
              "      <td>289</td>\n",
              "      <td>1</td>\n",
              "      <td>196.89</td>\n",
              "      <td>2</td>\n",
              "      <td>1</td>\n",
              "      <td>4</td>\n",
              "    </tr>\n",
              "  </tbody>\n",
              "</table>\n",
              "</div>"
            ],
            "text/plain": [
              "                                  Recency  Frequency  Monetary  R_Quartile  \\\n",
              "Customer_unique_id                                                           \n",
              "0000366f3b9a7992bf8c76cfdf3221e2      112          1    141.90           4   \n",
              "0000b849f77a49e4a4ce2b2a4ca5be3f      115          1     27.19           4   \n",
              "0000f46a3911fa3c0805444483337064      538          1     86.22           1   \n",
              "0000f6ccb0745a6a4b88665a16c9f078      322          1     43.62           2   \n",
              "0004aac84e0df4da2b147fca70cf8255      289          1    196.89           2   \n",
              "\n",
              "                                  F_Quartile  M_Quartile  \n",
              "Customer_unique_id                                        \n",
              "0000366f3b9a7992bf8c76cfdf3221e2           1           3  \n",
              "0000b849f77a49e4a4ce2b2a4ca5be3f           1           1  \n",
              "0000f46a3911fa3c0805444483337064           1           2  \n",
              "0000f6ccb0745a6a4b88665a16c9f078           1           1  \n",
              "0004aac84e0df4da2b147fca70cf8255           1           4  "
            ]
          },
          "metadata": {
            "tags": []
          },
          "execution_count": 68
        }
      ]
    },
    {
      "cell_type": "code",
      "metadata": {
        "id": "nRBRC8x7tPiM",
        "outputId": "b9bfa0e6-f36f-42be-f5af-4d2073661a68"
      },
      "source": [
        "# combining rfm scores\n",
        "\n",
        "rfm_segmentation['RFMScore'] = rfm_segmentation.R_Quartile.map(str) \\\n",
        "                            + rfm_segmentation.F_Quartile.map(str) \\\n",
        "                            + rfm_segmentation.M_Quartile.map(str)\n",
        "rfm_segmentation.head()"
      ],
      "execution_count": null,
      "outputs": [
        {
          "output_type": "execute_result",
          "data": {
            "text/html": [
              "<div>\n",
              "<style scoped>\n",
              "    .dataframe tbody tr th:only-of-type {\n",
              "        vertical-align: middle;\n",
              "    }\n",
              "\n",
              "    .dataframe tbody tr th {\n",
              "        vertical-align: top;\n",
              "    }\n",
              "\n",
              "    .dataframe thead th {\n",
              "        text-align: right;\n",
              "    }\n",
              "</style>\n",
              "<table border=\"1\" class=\"dataframe\">\n",
              "  <thead>\n",
              "    <tr style=\"text-align: right;\">\n",
              "      <th></th>\n",
              "      <th>Recency</th>\n",
              "      <th>Frequency</th>\n",
              "      <th>Monetary</th>\n",
              "      <th>R_Quartile</th>\n",
              "      <th>F_Quartile</th>\n",
              "      <th>M_Quartile</th>\n",
              "      <th>RFMScore</th>\n",
              "    </tr>\n",
              "    <tr>\n",
              "      <th>Customer_unique_id</th>\n",
              "      <th></th>\n",
              "      <th></th>\n",
              "      <th></th>\n",
              "      <th></th>\n",
              "      <th></th>\n",
              "      <th></th>\n",
              "      <th></th>\n",
              "    </tr>\n",
              "  </thead>\n",
              "  <tbody>\n",
              "    <tr>\n",
              "      <th>0000366f3b9a7992bf8c76cfdf3221e2</th>\n",
              "      <td>112</td>\n",
              "      <td>1</td>\n",
              "      <td>141.90</td>\n",
              "      <td>4</td>\n",
              "      <td>1</td>\n",
              "      <td>3</td>\n",
              "      <td>413</td>\n",
              "    </tr>\n",
              "    <tr>\n",
              "      <th>0000b849f77a49e4a4ce2b2a4ca5be3f</th>\n",
              "      <td>115</td>\n",
              "      <td>1</td>\n",
              "      <td>27.19</td>\n",
              "      <td>4</td>\n",
              "      <td>1</td>\n",
              "      <td>1</td>\n",
              "      <td>411</td>\n",
              "    </tr>\n",
              "    <tr>\n",
              "      <th>0000f46a3911fa3c0805444483337064</th>\n",
              "      <td>538</td>\n",
              "      <td>1</td>\n",
              "      <td>86.22</td>\n",
              "      <td>1</td>\n",
              "      <td>1</td>\n",
              "      <td>2</td>\n",
              "      <td>112</td>\n",
              "    </tr>\n",
              "    <tr>\n",
              "      <th>0000f6ccb0745a6a4b88665a16c9f078</th>\n",
              "      <td>322</td>\n",
              "      <td>1</td>\n",
              "      <td>43.62</td>\n",
              "      <td>2</td>\n",
              "      <td>1</td>\n",
              "      <td>1</td>\n",
              "      <td>211</td>\n",
              "    </tr>\n",
              "    <tr>\n",
              "      <th>0004aac84e0df4da2b147fca70cf8255</th>\n",
              "      <td>289</td>\n",
              "      <td>1</td>\n",
              "      <td>196.89</td>\n",
              "      <td>2</td>\n",
              "      <td>1</td>\n",
              "      <td>4</td>\n",
              "      <td>214</td>\n",
              "    </tr>\n",
              "  </tbody>\n",
              "</table>\n",
              "</div>"
            ],
            "text/plain": [
              "                                  Recency  Frequency  Monetary  R_Quartile  \\\n",
              "Customer_unique_id                                                           \n",
              "0000366f3b9a7992bf8c76cfdf3221e2      112          1    141.90           4   \n",
              "0000b849f77a49e4a4ce2b2a4ca5be3f      115          1     27.19           4   \n",
              "0000f46a3911fa3c0805444483337064      538          1     86.22           1   \n",
              "0000f6ccb0745a6a4b88665a16c9f078      322          1     43.62           2   \n",
              "0004aac84e0df4da2b147fca70cf8255      289          1    196.89           2   \n",
              "\n",
              "                                  F_Quartile  M_Quartile RFMScore  \n",
              "Customer_unique_id                                                 \n",
              "0000366f3b9a7992bf8c76cfdf3221e2           1           3      413  \n",
              "0000b849f77a49e4a4ce2b2a4ca5be3f           1           1      411  \n",
              "0000f46a3911fa3c0805444483337064           1           2      112  \n",
              "0000f6ccb0745a6a4b88665a16c9f078           1           1      211  \n",
              "0004aac84e0df4da2b147fca70cf8255           1           4      214  "
            ]
          },
          "metadata": {
            "tags": []
          },
          "execution_count": 69
        }
      ]
    },
    {
      "cell_type": "markdown",
      "metadata": {
        "id": "bftCGTletPiQ"
      },
      "source": [
        "Best Recency Score = 4 , Best Frequency Score = 4 , Best Monetary Score = 4.\n",
        "\n",
        "Ordering the customer based on the best score"
      ]
    },
    {
      "cell_type": "code",
      "metadata": {
        "id": "R5ZP0KM1tPiQ",
        "outputId": "60f548a6-93c4-43f7-dd53-ec708ce0de9a"
      },
      "source": [
        "rfm_segmentation[rfm_segmentation['RFMScore']=='444'].sort_values('Monetary', ascending=False).head(10)"
      ],
      "execution_count": null,
      "outputs": [
        {
          "output_type": "execute_result",
          "data": {
            "text/html": [
              "<div>\n",
              "<style scoped>\n",
              "    .dataframe tbody tr th:only-of-type {\n",
              "        vertical-align: middle;\n",
              "    }\n",
              "\n",
              "    .dataframe tbody tr th {\n",
              "        vertical-align: top;\n",
              "    }\n",
              "\n",
              "    .dataframe thead th {\n",
              "        text-align: right;\n",
              "    }\n",
              "</style>\n",
              "<table border=\"1\" class=\"dataframe\">\n",
              "  <thead>\n",
              "    <tr style=\"text-align: right;\">\n",
              "      <th></th>\n",
              "      <th>Recency</th>\n",
              "      <th>Frequency</th>\n",
              "      <th>Monetary</th>\n",
              "      <th>R_Quartile</th>\n",
              "      <th>F_Quartile</th>\n",
              "      <th>M_Quartile</th>\n",
              "      <th>RFMScore</th>\n",
              "    </tr>\n",
              "    <tr>\n",
              "      <th>Customer_unique_id</th>\n",
              "      <th></th>\n",
              "      <th></th>\n",
              "      <th></th>\n",
              "      <th></th>\n",
              "      <th></th>\n",
              "      <th></th>\n",
              "      <th></th>\n",
              "    </tr>\n",
              "  </thead>\n",
              "  <tbody>\n",
              "    <tr>\n",
              "      <th>c8460e4251689ba205045f3ea17884a1</th>\n",
              "      <td>22</td>\n",
              "      <td>4</td>\n",
              "      <td>4655.91</td>\n",
              "      <td>4</td>\n",
              "      <td>4</td>\n",
              "      <td>4</td>\n",
              "      <td>444</td>\n",
              "    </tr>\n",
              "    <tr>\n",
              "      <th>7b0eaf68a16e4808e5388c67345033c9</th>\n",
              "      <td>103</td>\n",
              "      <td>2</td>\n",
              "      <td>2340.08</td>\n",
              "      <td>4</td>\n",
              "      <td>4</td>\n",
              "      <td>4</td>\n",
              "      <td>444</td>\n",
              "    </tr>\n",
              "    <tr>\n",
              "      <th>906a8a4ec9f3d4c3e64fa6d1c4fe6009</th>\n",
              "      <td>41</td>\n",
              "      <td>2</td>\n",
              "      <td>2020.86</td>\n",
              "      <td>4</td>\n",
              "      <td>4</td>\n",
              "      <td>4</td>\n",
              "      <td>444</td>\n",
              "    </tr>\n",
              "    <tr>\n",
              "      <th>0341bbd5c969923a0f801b9e2d10a7b8</th>\n",
              "      <td>92</td>\n",
              "      <td>2</td>\n",
              "      <td>1999.68</td>\n",
              "      <td>4</td>\n",
              "      <td>4</td>\n",
              "      <td>4</td>\n",
              "      <td>444</td>\n",
              "    </tr>\n",
              "    <tr>\n",
              "      <th>525cda9909aa001ebed396f6e55eae01</th>\n",
              "      <td>23</td>\n",
              "      <td>2</td>\n",
              "      <td>1782.90</td>\n",
              "      <td>4</td>\n",
              "      <td>4</td>\n",
              "      <td>4</td>\n",
              "      <td>444</td>\n",
              "    </tr>\n",
              "    <tr>\n",
              "      <th>4facc2e6fbc2bffab2fea92d2b4aa7e4</th>\n",
              "      <td>17</td>\n",
              "      <td>4</td>\n",
              "      <td>1760.75</td>\n",
              "      <td>4</td>\n",
              "      <td>4</td>\n",
              "      <td>4</td>\n",
              "      <td>444</td>\n",
              "    </tr>\n",
              "    <tr>\n",
              "      <th>397b44d5bb99eabf54ea9c2b41ebb905</th>\n",
              "      <td>74</td>\n",
              "      <td>4</td>\n",
              "      <td>1756.53</td>\n",
              "      <td>4</td>\n",
              "      <td>4</td>\n",
              "      <td>4</td>\n",
              "      <td>444</td>\n",
              "    </tr>\n",
              "    <tr>\n",
              "      <th>87c9e7ba960e4c2e6bd786b162adc639</th>\n",
              "      <td>109</td>\n",
              "      <td>2</td>\n",
              "      <td>1653.98</td>\n",
              "      <td>4</td>\n",
              "      <td>4</td>\n",
              "      <td>4</td>\n",
              "      <td>444</td>\n",
              "    </tr>\n",
              "    <tr>\n",
              "      <th>fe81bb32c243a86b2f86fbf053fe6140</th>\n",
              "      <td>70</td>\n",
              "      <td>5</td>\n",
              "      <td>1590.76</td>\n",
              "      <td>4</td>\n",
              "      <td>4</td>\n",
              "      <td>4</td>\n",
              "      <td>444</td>\n",
              "    </tr>\n",
              "    <tr>\n",
              "      <th>fc24db02becd484accefaa5af59c18b1</th>\n",
              "      <td>66</td>\n",
              "      <td>2</td>\n",
              "      <td>1588.95</td>\n",
              "      <td>4</td>\n",
              "      <td>4</td>\n",
              "      <td>4</td>\n",
              "      <td>444</td>\n",
              "    </tr>\n",
              "  </tbody>\n",
              "</table>\n",
              "</div>"
            ],
            "text/plain": [
              "                                  Recency  Frequency  Monetary  R_Quartile  \\\n",
              "Customer_unique_id                                                           \n",
              "c8460e4251689ba205045f3ea17884a1       22          4   4655.91           4   \n",
              "7b0eaf68a16e4808e5388c67345033c9      103          2   2340.08           4   \n",
              "906a8a4ec9f3d4c3e64fa6d1c4fe6009       41          2   2020.86           4   \n",
              "0341bbd5c969923a0f801b9e2d10a7b8       92          2   1999.68           4   \n",
              "525cda9909aa001ebed396f6e55eae01       23          2   1782.90           4   \n",
              "4facc2e6fbc2bffab2fea92d2b4aa7e4       17          4   1760.75           4   \n",
              "397b44d5bb99eabf54ea9c2b41ebb905       74          4   1756.53           4   \n",
              "87c9e7ba960e4c2e6bd786b162adc639      109          2   1653.98           4   \n",
              "fe81bb32c243a86b2f86fbf053fe6140       70          5   1590.76           4   \n",
              "fc24db02becd484accefaa5af59c18b1       66          2   1588.95           4   \n",
              "\n",
              "                                  F_Quartile  M_Quartile RFMScore  \n",
              "Customer_unique_id                                                 \n",
              "c8460e4251689ba205045f3ea17884a1           4           4      444  \n",
              "7b0eaf68a16e4808e5388c67345033c9           4           4      444  \n",
              "906a8a4ec9f3d4c3e64fa6d1c4fe6009           4           4      444  \n",
              "0341bbd5c969923a0f801b9e2d10a7b8           4           4      444  \n",
              "525cda9909aa001ebed396f6e55eae01           4           4      444  \n",
              "4facc2e6fbc2bffab2fea92d2b4aa7e4           4           4      444  \n",
              "397b44d5bb99eabf54ea9c2b41ebb905           4           4      444  \n",
              "87c9e7ba960e4c2e6bd786b162adc639           4           4      444  \n",
              "fe81bb32c243a86b2f86fbf053fe6140           4           4      444  \n",
              "fc24db02becd484accefaa5af59c18b1           4           4      444  "
            ]
          },
          "metadata": {
            "tags": []
          },
          "execution_count": 70
        }
      ]
    },
    {
      "cell_type": "markdown",
      "metadata": {
        "id": "m-CwiqxjtPiV"
      },
      "source": [
        "**Segmenting customer into 6 different categories based on the calculated RFM scores**"
      ]
    },
    {
      "cell_type": "code",
      "metadata": {
        "id": "zpYDGzlatPiW",
        "scrolled": true,
        "outputId": "a5459b0b-3807-4901-cbea-5505cb434283"
      },
      "source": [
        "rfm_segmentation.info()"
      ],
      "execution_count": null,
      "outputs": [
        {
          "output_type": "stream",
          "text": [
            "<class 'pandas.core.frame.DataFrame'>\n",
            "Index: 93104 entries, 0000366f3b9a7992bf8c76cfdf3221e2 to ffffd2657e2aad2907e67c3e9daecbeb\n",
            "Data columns (total 7 columns):\n",
            " #   Column      Non-Null Count  Dtype  \n",
            "---  ------      --------------  -----  \n",
            " 0   Recency     93104 non-null  int64  \n",
            " 1   Frequency   93104 non-null  int64  \n",
            " 2   Monetary    93104 non-null  float64\n",
            " 3   R_Quartile  93104 non-null  int64  \n",
            " 4   F_Quartile  93104 non-null  int64  \n",
            " 5   M_Quartile  93104 non-null  int64  \n",
            " 6   RFMScore    93104 non-null  object \n",
            "dtypes: float64(1), int64(5), object(1)\n",
            "memory usage: 5.7+ MB\n"
          ],
          "name": "stdout"
        }
      ]
    },
    {
      "cell_type": "code",
      "metadata": {
        "id": "dCkWxcoFtPiY",
        "outputId": "d208062a-4c02-4f8a-d3ed-2edf024ad9b6"
      },
      "source": [
        "print(\"Best Customers: \",len(rfm_segmentation[rfm_segmentation['RFMScore']=='444']))\n",
        "print('Loyal Customers: ',len(rfm_segmentation[rfm_segmentation['F_Quartile']==4]))\n",
        "print(\"Big Spenders: \",len(rfm_segmentation[rfm_segmentation['M_Quartile']==4]))\n",
        "print('Almost Lost: ', len(rfm_segmentation[rfm_segmentation['RFMScore']=='244']))\n",
        "print('Lost Customers: ',len(rfm_segmentation[rfm_segmentation['RFMScore']=='144']))\n",
        "print('Lost Cheap Customers: ',len(rfm_segmentation[rfm_segmentation['RFMScore']=='111']))"
      ],
      "execution_count": null,
      "outputs": [
        {
          "output_type": "stream",
          "text": [
            "Best Customers:  522\n",
            "Loyal Customers:  2789\n",
            "Big Spenders:  23276\n",
            "Almost Lost:  415\n",
            "Lost Customers:  341\n",
            "Lost Cheap Customers:  5916\n"
          ],
          "name": "stdout"
        }
      ]
    },
    {
      "cell_type": "markdown",
      "metadata": {
        "id": "Z6eLjU3htPib"
      },
      "source": [
        "# Applying K_means clustering on RFM variables"
      ]
    },
    {
      "cell_type": "code",
      "metadata": {
        "id": "J6cVdtT8tPic",
        "colab": {
          "base_uri": "https://localhost:8080/",
          "height": 215
        },
        "outputId": "120d5291-2da5-401c-cda9-1ee95e47b2c4"
      },
      "source": [
        "# data preprocessing\n",
        "\n",
        "rfm_data = rfm_df.drop(['R_Quartile','F_Quartile','M_Quartile','RFMScore'],axis=1)\n",
        "rfm_data.head()"
      ],
      "execution_count": null,
      "outputs": [
        {
          "output_type": "error",
          "ename": "NameError",
          "evalue": "ignored",
          "traceback": [
            "\u001b[0;31m---------------------------------------------------------------------------\u001b[0m",
            "\u001b[0;31mNameError\u001b[0m                                 Traceback (most recent call last)",
            "\u001b[0;32m<ipython-input-1-e39625057868>\u001b[0m in \u001b[0;36m<module>\u001b[0;34m()\u001b[0m\n\u001b[1;32m      1\u001b[0m \u001b[0;31m# data preprocessing\u001b[0m\u001b[0;34m\u001b[0m\u001b[0;34m\u001b[0m\u001b[0;34m\u001b[0m\u001b[0m\n\u001b[1;32m      2\u001b[0m \u001b[0;34m\u001b[0m\u001b[0m\n\u001b[0;32m----> 3\u001b[0;31m \u001b[0mrfm_data\u001b[0m \u001b[0;34m=\u001b[0m \u001b[0mrfm_df\u001b[0m\u001b[0;34m.\u001b[0m\u001b[0mdrop\u001b[0m\u001b[0;34m(\u001b[0m\u001b[0;34m[\u001b[0m\u001b[0;34m'R_Quartile'\u001b[0m\u001b[0;34m,\u001b[0m\u001b[0;34m'F_Quartile'\u001b[0m\u001b[0;34m,\u001b[0m\u001b[0;34m'M_Quartile'\u001b[0m\u001b[0;34m,\u001b[0m\u001b[0;34m'RFMScore'\u001b[0m\u001b[0;34m]\u001b[0m\u001b[0;34m,\u001b[0m\u001b[0maxis\u001b[0m\u001b[0;34m=\u001b[0m\u001b[0;36m1\u001b[0m\u001b[0;34m)\u001b[0m\u001b[0;34m\u001b[0m\u001b[0;34m\u001b[0m\u001b[0m\n\u001b[0m\u001b[1;32m      4\u001b[0m \u001b[0mrfm_data\u001b[0m\u001b[0;34m.\u001b[0m\u001b[0mhead\u001b[0m\u001b[0;34m(\u001b[0m\u001b[0;34m)\u001b[0m\u001b[0;34m\u001b[0m\u001b[0;34m\u001b[0m\u001b[0m\n",
            "\u001b[0;31mNameError\u001b[0m: name 'rfm_df' is not defined"
          ]
        }
      ]
    },
    {
      "cell_type": "markdown",
      "metadata": {
        "id": "b3Quu5jWtPig"
      },
      "source": [
        "**Visualizing feature distributions**"
      ]
    },
    {
      "cell_type": "code",
      "metadata": {
        "id": "SWUe7P8TtPih",
        "colab": {
          "base_uri": "https://localhost:8080/",
          "height": 215
        },
        "outputId": "645133af-6dbd-445e-e9a0-0396c917ef1d"
      },
      "source": [
        "# pair plot\n",
        "\n",
        "sns.pairplot(rfm_data,diag_kind='kde')\n",
        "plt.show()"
      ],
      "execution_count": null,
      "outputs": [
        {
          "output_type": "error",
          "ename": "NameError",
          "evalue": "ignored",
          "traceback": [
            "\u001b[0;31m---------------------------------------------------------------------------\u001b[0m",
            "\u001b[0;31mNameError\u001b[0m                                 Traceback (most recent call last)",
            "\u001b[0;32m<ipython-input-2-aa53398f7481>\u001b[0m in \u001b[0;36m<module>\u001b[0;34m()\u001b[0m\n\u001b[1;32m      1\u001b[0m \u001b[0;31m# pair plot\u001b[0m\u001b[0;34m\u001b[0m\u001b[0;34m\u001b[0m\u001b[0;34m\u001b[0m\u001b[0m\n\u001b[1;32m      2\u001b[0m \u001b[0;34m\u001b[0m\u001b[0m\n\u001b[0;32m----> 3\u001b[0;31m \u001b[0msns\u001b[0m\u001b[0;34m.\u001b[0m\u001b[0mpairplot\u001b[0m\u001b[0;34m(\u001b[0m\u001b[0mrfm_data\u001b[0m\u001b[0;34m,\u001b[0m\u001b[0mdiag_kind\u001b[0m\u001b[0;34m=\u001b[0m\u001b[0;34m'kde'\u001b[0m\u001b[0;34m)\u001b[0m\u001b[0;34m\u001b[0m\u001b[0;34m\u001b[0m\u001b[0m\n\u001b[0m\u001b[1;32m      4\u001b[0m \u001b[0mplt\u001b[0m\u001b[0;34m.\u001b[0m\u001b[0mshow\u001b[0m\u001b[0;34m(\u001b[0m\u001b[0;34m)\u001b[0m\u001b[0;34m\u001b[0m\u001b[0;34m\u001b[0m\u001b[0m\n",
            "\u001b[0;31mNameError\u001b[0m: name 'sns' is not defined"
          ]
        }
      ]
    },
    {
      "cell_type": "code",
      "metadata": {
        "id": "X5PPrmYptPik"
      },
      "source": [
        "# correlation plot\n",
        "\n",
        "sns.heatmap(rfm_data.corr(),annot=True,cmap='YlGnBu')\n",
        "plt.show()"
      ],
      "execution_count": null,
      "outputs": []
    },
    {
      "cell_type": "code",
      "metadata": {
        "id": "Imru9_NKtPis"
      },
      "source": [
        "# Scaling input using StandardScaler\n",
        "from sklearn.preprocessing import StandardScaler\n",
        "scaler = StandardScaler()\n",
        "X = pd.DataFrame(scaler.fit_transform(rfm_data), columns=rfm_data.columns,index=rfm_data.index)"
      ],
      "execution_count": null,
      "outputs": []
    },
    {
      "cell_type": "code",
      "metadata": {
        "id": "G72-LJxPtPiw"
      },
      "source": [
        "sns.pairplot(X)\n",
        "plt.show()"
      ],
      "execution_count": null,
      "outputs": []
    },
    {
      "cell_type": "markdown",
      "metadata": {
        "id": "VAOSOjpQtPi0"
      },
      "source": [
        "There exists only few outliers but in business point of view thosw customers may be required for further analysis. Hence carryouting the analysis with those customers"
      ]
    },
    {
      "cell_type": "code",
      "metadata": {
        "id": "gqN4h6DatPi1"
      },
      "source": [
        "sns.heatmap(X.corr(),annot=True,cmap='YlGnBu')\n",
        "plt.show()"
      ],
      "execution_count": null,
      "outputs": []
    },
    {
      "cell_type": "code",
      "metadata": {
        "id": "uaXLBpebtPi5"
      },
      "source": [
        "from sklearn.cluster import KMeans\n",
        "\n",
        "wcss = [] #inertia (within cluster sum square) or total spread\n",
        "\n",
        "for k in range(1,10):\n",
        "    kmeans = KMeans(n_clusters=k)\n",
        "    kmeans.fit(X)\n",
        "    wcss.append(kmeans.inertia_)\n",
        "    \n",
        "# Visualization of k values:\n",
        "\n",
        "plt.figure(figsize=(15,8))\n",
        "plt.plot(range(1,10), wcss, color='red',marker='o')\n",
        "plt.title('Graph of k values and WCSS')\n",
        "plt.xlabel('k values')\n",
        "plt.ylabel('wcss values')\n",
        "plt.show()"
      ],
      "execution_count": null,
      "outputs": []
    },
    {
      "cell_type": "code",
      "metadata": {
        "id": "M6NLdfnitPi7"
      },
      "source": [
        "# initializing cluster value\n",
        "k=4"
      ],
      "execution_count": null,
      "outputs": []
    },
    {
      "cell_type": "code",
      "metadata": {
        "id": "JkvbNSS4tPi9"
      },
      "source": [
        "from sklearn.cluster import KMeans\n",
        "\n",
        "km=KMeans(n_clusters=k,n_init=15,random_state=2)\n",
        "km.fit(X)"
      ],
      "execution_count": null,
      "outputs": []
    },
    {
      "cell_type": "code",
      "metadata": {
        "id": "s69oqgh0tPi-"
      },
      "source": [
        "# Review output cluster labels\n",
        "cluster_labels = km.labels_\n",
        "print(\"Assigned cluster labels: \\n\", cluster_labels)"
      ],
      "execution_count": null,
      "outputs": []
    },
    {
      "cell_type": "code",
      "metadata": {
        "id": "oo9njWAitPjB"
      },
      "source": [
        "# Review Centroids of clusters\n",
        "centroids = km.cluster_centers_\n",
        "print(\"Location of centroids: \")\n",
        "print(centroids)"
      ],
      "execution_count": null,
      "outputs": []
    },
    {
      "cell_type": "code",
      "metadata": {
        "id": "wTUP_xjz7EZQ"
      },
      "source": [
        "# silhouttescore and inertia\n",
        "\n",
        "from sklearn import metrics\n",
        "metrics.silhouette_score(X, cluster_labels, metric='euclidean')"
      ],
      "execution_count": null,
      "outputs": []
    },
    {
      "cell_type": "code",
      "metadata": {
        "id": "zDtVtkn27EZQ"
      },
      "source": [
        "# Plotting Silhouette Score\n",
        "from scikitplot.metrics import plot_silhouette\n",
        "plot_silhouette(X, cluster_labels);"
      ],
      "execution_count": null,
      "outputs": []
    },
    {
      "cell_type": "code",
      "metadata": {
        "id": "chlIGg8gtPjD"
      },
      "source": [
        "# Append clusters to input features table\n",
        "X['clusters'] = cluster_labels\n",
        "X.head()"
      ],
      "execution_count": null,
      "outputs": []
    },
    {
      "cell_type": "code",
      "metadata": {
        "id": "wIzafQv3tPjG"
      },
      "source": [
        "X['clusters'].value_counts()"
      ],
      "execution_count": null,
      "outputs": []
    },
    {
      "cell_type": "code",
      "metadata": {
        "id": "8mer2Dbj7EZR"
      },
      "source": [
        "sns.countplot(X['clusters'])\n",
        "plt.title(\"Cluster count\")\n",
        "plt.show()"
      ],
      "execution_count": null,
      "outputs": []
    },
    {
      "cell_type": "code",
      "metadata": {
        "id": "PfpOrE1ctPjK"
      },
      "source": [
        "sns.pairplot(X,hue='clusters')\n",
        "plt.show()"
      ],
      "execution_count": null,
      "outputs": []
    },
    {
      "cell_type": "code",
      "metadata": {
        "id": "NTdmdkP8tPj4"
      },
      "source": [
        "X.boxplot(by = 'clusters',layout=(2,4), figsize=(30, 15))\n",
        "plt.show()"
      ],
      "execution_count": null,
      "outputs": []
    },
    {
      "cell_type": "code",
      "metadata": {
        "id": "WSGEctG2tPj6"
      },
      "source": [
        ""
      ],
      "execution_count": null,
      "outputs": []
    },
    {
      "cell_type": "code",
      "metadata": {
        "id": "NGn3N5petPj8"
      },
      "source": [
        "# combining dataset to analyse the cluters\n",
        "\n",
        "data=X.reset_index()\n",
        "data.head()"
      ],
      "execution_count": null,
      "outputs": []
    },
    {
      "cell_type": "code",
      "metadata": {
        "id": "992eH4SNtPj_"
      },
      "source": [
        "data.rename(columns={'Customer_unique_id':'customer_unique_id'},inplace=True)"
      ],
      "execution_count": null,
      "outputs": []
    },
    {
      "cell_type": "code",
      "metadata": {
        "id": "-p-ihIXrtPkB"
      },
      "source": [
        "data.head()"
      ],
      "execution_count": null,
      "outputs": []
    },
    {
      "cell_type": "code",
      "metadata": {
        "id": "KeCTNLOj7EZU"
      },
      "source": [
        "data.shape"
      ],
      "execution_count": null,
      "outputs": []
    },
    {
      "cell_type": "code",
      "metadata": {
        "id": "bJ2QT_kTtPkE"
      },
      "source": [
        "df_full=data.merge(final_df,how='left',on='customer_unique_id')"
      ],
      "execution_count": null,
      "outputs": []
    },
    {
      "cell_type": "code",
      "metadata": {
        "id": "79fiI7IvtPkq"
      },
      "source": [
        "df_full.info()"
      ],
      "execution_count": null,
      "outputs": []
    },
    {
      "cell_type": "code",
      "metadata": {
        "id": "TOR9N58xtPks"
      },
      "source": [
        "df_full.shape"
      ],
      "execution_count": null,
      "outputs": []
    },
    {
      "cell_type": "code",
      "metadata": {
        "id": "WHtk3yfEtPku"
      },
      "source": [
        "df_full.isna().sum()"
      ],
      "execution_count": null,
      "outputs": []
    },
    {
      "cell_type": "code",
      "metadata": {
        "id": "B9BVYic_7EZV"
      },
      "source": [
        "df_full.duplicated().sum()"
      ],
      "execution_count": null,
      "outputs": []
    },
    {
      "cell_type": "code",
      "metadata": {
        "id": "2CXiQ6gp7EZW"
      },
      "source": [
        ""
      ],
      "execution_count": null,
      "outputs": []
    }
  ]
}